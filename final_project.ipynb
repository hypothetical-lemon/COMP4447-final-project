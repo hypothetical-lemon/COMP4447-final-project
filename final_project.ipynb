{
 "cells": [
  {
   "cell_type": "markdown",
   "id": "1f4b83a5",
   "metadata": {
    "pycharm": {
     "name": "#%% md\n"
    }
   },
   "source": [
    "\n",
    "### COMP 4447 DSTools1 Final Project\n",
    "### Authors: Elizabeth Fugikawa & Heather Lemon"
   ]
  },
  {
   "cell_type": "markdown",
   "source": [
    "### How Online Dating and Dating App Usage Affect Relationships"
   ],
   "metadata": {
    "collapsed": false,
    "pycharm": {
     "name": "#%% md\n"
    }
   }
  },
  {
   "cell_type": "markdown",
   "source": [
    "**Love**. Love permeates many decisions we have in life. The motivation behind this analysis is to further understand the dynamics of how online dating and cell phone dating app usage affect relationships using the data collected through [Standford's How Couples Meet and Stay Together (HCMST) 2017](https://data.stanford.edu/hcmst2017).\n",
    "\n",
    "Some details of the data collected include; poltical affilation, mother's highest level of education, demographics, and if you met your sigificant other online or not.\n",
    "\n",
    "We will looking at exploratory data analysis, feature engineering, cleaning, and visualization. Including basic transformations and normalizations of data.\n",
    "\n",
    "### Detailed Notes Regarding Original Data Collection\n",
    "Administered by GFK group project report on behalf of the Standford Couples study.\n",
    "This new survey, How Couples Meet and Stay Together 2017 (HCMST 2017), features a fresh set of 3,510 survey respondents, with no overlap in subjects from the original HCMST survey which was first fielded in 2009.\n",
    "HCMST 2017 features new questions about subjects' use of phone apps like Tinder and Grindr for dating and meeting partners.\n",
    "\n",
    "Specifically, the purpose of this study is to bring knowledge of how couples meet up‐to‐date by\n",
    "asking detailed questions about both the timing and the social contexts of how Americans meet\n",
    "their romantic partners. Same‐sex couples have been oversampled both in order to provide\n",
    "better information about the difficult‐to‐study sexual minority population, and in order to\n",
    "provide new perspectives on the changing nature of same‐sex couple mating in the US.\n",
    "Another key purpose is to examine how technology, specifically online dating and cell phone\n",
    "apps like Tinder and Grindr, affect relationship formation, relationship quality, attachment to\n",
    "the idea of monogamy, and relationship stability.\n",
    "\n",
    "### Reference\n",
    "Rosenfeld, Michael J., Reuben J. Thomas, and Sonia Hausen. 2019 How Couples Meet and Stay Together 2017 fresh sample. Stanford, CA: Stanford University Libraries."
   ],
   "metadata": {
    "collapsed": false,
    "pycharm": {
     "name": "#%% md\n"
    }
   }
  },
  {
   "cell_type": "markdown",
   "id": "8a59cc54",
   "metadata": {
    "pycharm": {
     "name": "#%% md\n"
    }
   },
   "source": [
    "## Table of Contents\n",
    "> 1. [Exploratory Data Analysis](#Exploratory-Data-Analysis)\n",
    "    * 1.1 [Missing-Values](#Missing-Values) \n",
    "    * 1.2 [Basic Transformations](#Basic-Transformations)\n",
    "    * 1.3 [Visualizing the Data](#Visualization-of-Data)\n",
    "         * 1.2.1 [Seaborn PairPlot](#Seaborn-Pairplot)\n",
    "         * 1.2.2 [Correlation Table](#Correlation-Table)\n",
    "    * 1.4 [Exploratory Data Analysis Conclusion](#Exploratory-Data-Analysis-Conclusion)\n",
    "    "
   ]
  },
  {
   "cell_type": "markdown",
   "id": "0e040ec6",
   "metadata": {
    "pycharm": {
     "name": "#%% md\n"
    }
   },
   "source": [
    "# Importing Data"
   ]
  },
  {
   "cell_type": "code",
   "execution_count": 1,
   "id": "b42df53c",
   "metadata": {
    "pycharm": {
     "name": "#%%\n"
    },
    "scrolled": true
   },
   "outputs": [
    {
     "name": "stderr",
     "output_type": "stream",
     "text": [
      "--2022-10-28 18:12:38--  https://stacks.stanford.edu/file/druid:hg921sg6829/HCMST_2017_public_data_v1.1_stata.zip\n",
      "Resolving stacks.stanford.edu (stacks.stanford.edu)... 171.67.37.91\n",
      "Connecting to stacks.stanford.edu (stacks.stanford.edu)|171.67.37.91|:443... connected.\n",
      "HTTP request sent, awaiting response... 200 OK\n",
      "Length: 463647 (453K) [application/zip]\n",
      "Saving to: ‘HCMST_2017_public_data_v1.1_stata.zip’\n",
      "\n",
      "     0K .......... .......... .......... .......... .......... 11%  551K 1s\n",
      "    50K .......... .......... .......... .......... .......... 22% 1.01M 0s\n",
      "   100K .......... .......... .......... .......... .......... 33%  485K 0s\n",
      "   150K .......... .......... .......... .......... .......... 44% 1.13M 0s\n",
      "   200K .......... .......... .......... .......... .......... 55% 1.06M 0s\n",
      "   250K .......... .......... .......... .......... .......... 66% 19.3M 0s\n",
      "   300K .......... .......... .......... .......... .......... 77% 1.19M 0s\n",
      "   350K .......... .......... .......... .......... .......... 88% 1.25M 0s\n",
      "   400K .......... .......... .......... .......... .......... 99% 2.08M 0s\n",
      "   450K ..                                                    100% 53.0G=0.4s\n",
      "\n",
      "2022-10-28 18:12:39 (1.01 MB/s) - ‘HCMST_2017_public_data_v1.1_stata.zip’ saved [463647/463647]\n",
      "\n"
     ]
    },
    {
     "name": "stdout",
     "output_type": "stream",
     "text": [
      "Archive:  HCMST_2017_public_data_v1.1_stata.zip\n",
      "  inflating: HCMST 2017 fresh sample for public sharing draft v1.1.dta  \n"
     ]
    }
   ],
   "source": [
    "%%bash\n",
    "# pull data\n",
    "wget 'https://stacks.stanford.edu/file/druid:hg921sg6829/HCMST_2017_public_data_v1.1_stata.zip'\n",
    "unzip HCMST_2017_public_data_v1.1_stata.zip\n",
    "# remove zipped file\n",
    "rm HCMST_2017_public_data_v1.1_stata.zip\n",
    "# rename file\n",
    "mv 'HCMST 2017 fresh sample for public sharing draft v1.1.dta' HCMST2017.dta\n"
   ]
  },
  {
   "cell_type": "markdown",
   "id": "14791ccd",
   "metadata": {
    "pycharm": {
     "name": "#%% md\n"
    }
   },
   "source": [
    "# Exploratory Data Analysis\n",
    "\n",
    "We begin by importing the proper libraries and files"
   ]
  },
  {
   "cell_type": "code",
   "execution_count": 10,
   "id": "21f15bcd",
   "metadata": {
    "pycharm": {
     "name": "#%%\n"
    }
   },
   "outputs": [],
   "source": [
    "import pandas as pd\n",
    "import logging\n",
    "import matplotlib.pyplot as plt\n",
    "import seaborn as sns\n",
    "import numpy as np\n",
    "import statsmodels.api as sm\n",
    "import scipy\n",
    "pd.options.display.max_columns = None\n",
    "import warnings\n",
    "warnings.filterwarnings(\"ignore\")"
   ]
  },
  {
   "cell_type": "code",
   "execution_count": 11,
   "outputs": [
    {
     "data": {
      "text/plain": "   CaseID  CASEID_NEW      qflag  weight1  weight1_freqwt  weight2  weight1a  \\\n0       2     2014039  Qualified      NaN             NaN   0.8945       NaN   \n1       3     2019003  Qualified   0.9078         71115.0      NaN    0.9026   \n2       5     2145527  Qualified   0.7205         56442.0      NaN    0.7164   \n3       6     2648857  Qualified   1.2597         98682.0   1.3507    1.2524   \n4       7     2623465  Qualified   0.8686         68044.0      NaN    0.8636   \n\n   weight1a_freqwt  weight_combo  weight_combo_freqwt  duration  \\\n0              NaN      0.277188              19240.0         9   \n1          70707.0      1.020621              70841.0        11   \n2          56121.0      0.810074              56227.0         7   \n3          98110.0      0.418556              29052.0         5   \n4          67652.0      0.976522              67781.0        13   \n\n                           speed_flag                      consent  \\\n0  Completed survey in over 2 minutes  Yes, I agree to participate   \n1  Completed survey in over 2 minutes  Yes, I agree to participate   \n2  Completed survey in over 2 minutes  Yes, I agree to participate   \n3  Completed survey in over 2 minutes  Yes, I agree to participate   \n4  Completed survey in over 2 minutes  Yes, I agree to participate   \n\n         xlgb                    S1  \\\n0  LGB sample  No, I am not Married   \n1     gen pop     Yes, I am Married   \n2     gen pop     Yes, I am Married   \n3     gen pop  No, I am not Married   \n4     gen pop     Yes, I am Married   \n\n                                                  S2   S3 DOV_Branch  \\\n0  No, I am single, with no boyfriend, no girlfri...  Yes          2   \n1                                                NaN  NaN          1   \n2                                                NaN  NaN          1   \n3  No, I am single, with no boyfriend, no girlfri...  Yes          2   \n4                                                NaN  NaN          1   \n\n  Q3_Refused                        Q4   Q5                          Q6A  \\\n0        NaN                       NaN  NaN                          NaN   \n1        NaN    [Partner Name] is Male  NaN  No (Not Latino or Hispanic)   \n2        NaN  [Partner Name] is Female  NaN  No (Not Latino or Hispanic)   \n3        NaN                       NaN  NaN                          NaN   \n4        NaN    [Partner Name] is Male  NaN  No (Not Latino or Hispanic)   \n\n     Q6B    Q9                Q10                 Q11               Q12  \\\n0    NaN   NaN                NaN                 NaN               NaN   \n1  White  52.0    Masters degree  HS graduate or GED  Leans Republican   \n2  White  45.0   Associate degree           9th grade    Leans Democrat   \n3    NaN   NaN                NaN                 NaN               NaN   \n4  White  59.0  Bachelors degree    Associate degree   Strong Democrat   \n\n                 Q14                                      Q15A7  Q16  \\\n0                NaN                                        NaN  NaN   \n1  Bachelors degree  I met [Partner Name] in [Answer in Q15A6]  1.0   \n2   7th or 8th grade  I met [Partner Name] in [Answer in Q15A6]  0.0   \n3                NaN                                        NaN  NaN   \n4    Masters degree  I met [Partner Name] in [Answer in Q15A6]  0.0   \n\n  Q16_Refused                              Q17A Q17B  \\\n0         NaN                               NaN  NaN   \n1         NaN  Once (this is my first marriage)  NaN   \n2         NaN  Once (this is my first marriage)  NaN   \n3         NaN                               NaN  NaN   \n4         NaN  Once (this is my first marriage)  NaN   \n\n                                                Q17C  \\\n0                                                NaN   \n1                I am sexually attracted only to men   \n2                                                NaN   \n3                                                NaN   \n4  I am mostly sexually attracted to men, less of...   \n\n                                    Q17D  Q19  Q20 Q21A_Year Q21A_Month  \\\n0                                    NaN  NaN  NaN       NaN        NaN   \n1                                    NaN  Yes  NaN      1983        May   \n2  I am sexually attracted only to women  Yes  NaN      2006    January   \n3                                    NaN  NaN  NaN       NaN        NaN   \n4                                    NaN  Yes  NaN      1983  September   \n\n  Q21B_Year Q21B_Month Q21C_Year Q21C_Month Q21D_Year Q21D_Month  \\\n0       NaN        NaN       NaN        NaN       NaN        NaN   \n1      1995     August      1996   February      1996   February   \n2      2006       June      2006       July      2008        May   \n3       NaN        NaN       NaN        NaN       NaN        NaN   \n4      1983    October      1984     August      1984     August   \n\n                w6_identity w6_outness w6_outness_timing  \\\n0                       NaN        NaN               NaN   \n1  heterosexual or straight        NaN               NaN   \n2  heterosexual or straight        NaN               NaN   \n3                       NaN        NaN               NaN   \n4  heterosexual or straight        NaN               NaN   \n\n                          Q23 Q24_Refused                    Q25  \\\n0                         NaN         NaN                    NaN   \n1  [Partner Name] earned more         NaN  Different High School   \n2               I earned more         NaN  Different High School   \n3                         NaN         NaN                    NaN   \n4  [Partner Name] earned more         NaN  Different High School   \n\n                                         Q26  Q27  Q28 w6_friend_connect_1  \\\n0                                        NaN  NaN  NaN                 NaN   \n1  Did not attend same college or university   No   No                  No   \n2  Did not attend same college or university   No   No                  No   \n3                                        NaN  NaN  NaN                 NaN   \n4  Did not attend same college or university   No   No                  No   \n\n  w6_friend_connect_2 w6_friend_connect_3 w6_friend_connect_4  \\\n0                 NaN                 NaN                 NaN   \n1                  No                  No                 Yes   \n2                  No                  No                 Yes   \n3                 NaN                 NaN                 NaN   \n4                  No                  No                 Yes   \n\n  w6_friend_connect_Refused  \\\n0                       NaN   \n1                        No   \n2                        No   \n3                       NaN   \n4                        No   \n\n                                                 Q32        Q34 Q35_Refused  \\\n0                                                NaN        NaN         NaN   \n1  No, I did NOT meet [Partner Name] through the ...  Excellent         NaN   \n2  Yes, an Internet dating or matchmaking site (l...       Good     Refused   \n3                                                NaN        NaN         NaN   \n4  No, I did NOT meet [Partner Name] through the ...  Excellent         NaN   \n\n       w6_sex_frequency                                       w6_otherdate  \\\n0                   NaN                                                NaN   \n1  Once a month or less  No, I have not met anyone for dating, romance,...   \n2  2 to 3 times a month  No, I have not met anyone for dating, romance,...   \n3                   NaN                                                NaN   \n4   3 to 6 times a week  No, I have not met anyone for dating, romance,...   \n\n  w6_how_many w6_how_meet_Refused w6_otherdate_app w6_how_many_app  \\\n0         NaN                 NaN              NaN             NaN   \n1         NaN                 NaN              NaN             NaN   \n2         NaN                 NaN              NaN             NaN   \n3         NaN                 NaN              NaN             NaN   \n4         NaN                 NaN              NaN             NaN   \n\n  Past_Partner_Q1 w6_relationship_end_nonmar  \\\n0              No                We broke up   \n1             NaN                        NaN   \n2             NaN                        NaN   \n3              No                We broke up   \n4             NaN                        NaN   \n\n                        w6_breakup_nonmar w6_relationship_end_mar  \\\n0               I wanted to break up more                     NaN   \n1                                     NaN                     NaN   \n2                                     NaN                     NaN   \n3  [Partner Name] wanted to break up more                     NaN   \n4                                     NaN                     NaN   \n\n  w6_who_breakup                            Q5_2                        Q6A_2  \\\n0            NaN  Yes, we were a same-sex couple  No (Not Latino or Hispanic)   \n1            NaN                             NaN                          NaN   \n2            NaN                             NaN                          NaN   \n3            NaN  Yes, we were a same-sex couple  No (Not Latino or Hispanic)   \n4            NaN                             NaN                          NaN   \n\n    Q9B_2               Q10_2               Q11_2  \\\n0  1991.0  HS graduate or GED  HS graduate or GED   \n1     NaN                 NaN                 NaN   \n2     NaN                 NaN                 NaN   \n3  1991.0  HS graduate or GED   Bachelors degree   \n4     NaN                 NaN                 NaN   \n\n                         Q12_2               Q14_2  \\\n0             Leans Republican    Associate degree   \n1                          NaN                 NaN   \n2                          NaN                 NaN   \n3  Undecided/Independent/Other  HS graduate or GED   \n4                          NaN                 NaN   \n\n                                           Q15A7_2_1 Q16_2 Q16_2_Codes  \\\n0        I met [Partner Name] in [answer in Q15A7_2]   1.0         NaN   \n1                                                NaN   NaN         NaN   \n2                                                NaN   NaN         NaN   \n3  I met [Partner Name] somewhere else , Please s...   0.0         NaN   \n4                                                NaN   NaN         NaN   \n\n          Q17B_2                                             Q17C_2  \\\n0           Once                                                NaN   \n1            NaN                                                NaN   \n2            NaN                                                NaN   \n3  Never married  I am mostly sexually attracted to women, less ...   \n4            NaN                                                NaN   \n\n                                             Q17D_2 Q20_2 Q21A_2_Year  \\\n0  I am equally sexually attracted to men and women    No        2017   \n1                                               NaN   NaN         NaN   \n2                                               NaN   NaN         NaN   \n3                                               NaN    No        2012   \n4                                               NaN   NaN         NaN   \n\n  Q21A_2_Month Q21B_2_Year Q21B_2_Month Q21C_2_Year Q21C_2_Month Q21D_2_Year  \\\n0        March        2017        March         NaN          NaN         NaN   \n1          NaN         NaN          NaN         NaN          NaN         NaN   \n2          NaN         NaN          NaN         NaN          NaN         NaN   \n3        March        2013        April         NaN          NaN         NaN   \n4          NaN         NaN          NaN         NaN          NaN         NaN   \n\n  Q21D_2_Month Q21E_2_Year Q21E_2_Month Q21F_2_start_range Q21F_2_Year  \\\n0          NaN        2017         June             Q21B_2         NaN   \n1          NaN         NaN          NaN                NaN         NaN   \n2          NaN         NaN          NaN                NaN         NaN   \n3          NaN        2013         June             Q21B_2         NaN   \n4          NaN         NaN          NaN                NaN         NaN   \n\n  Q21F_2_Month w6_identity_2         w6_outness_2 w6_outness_timing_2  \\\n0          NaN      bisexual   Only a few of them                  13   \n1          NaN           NaN                  NaN                 NaN   \n2          NaN           NaN                  NaN                 NaN   \n3          NaN      bisexual  All or most of them                  17   \n4          NaN           NaN                  NaN                 NaN   \n\n           Q23_2                  Q25_2 Q26_2 Q27_2 Q28_2  \\\n0  I earned more  Different High School   NaN    No    No   \n1            NaN                    NaN   NaN   NaN   NaN   \n2            NaN                    NaN   NaN   NaN   NaN   \n3  I earned more  Different High School   NaN    No    No   \n4            NaN                    NaN   NaN   NaN   NaN   \n\n  w6_friend_connect_2_1 w6_friend_connect_2_2 w6_friend_connect_2_3  \\\n0                    No                    No                    No   \n1                   NaN                   NaN                   NaN   \n2                   NaN                   NaN                   NaN   \n3                    No                    No                    No   \n4                   NaN                   NaN                   NaN   \n\n  w6_friend_connect_2_4 w6_friend_connect_2_Refused  \\\n0                   Yes                          No   \n1                   NaN                         NaN   \n2                   NaN                         NaN   \n3                   Yes                          No   \n4                   NaN                         NaN   \n\n                                               Q32_2  \\\n0  Yes, an Internet dating or matchmaking site (l...   \n1                                                NaN   \n2                                                NaN   \n3  Yes, a social networking site (like Facebook o...   \n4                                                NaN   \n\n                                      w6_otherdate_2  \\\n0  Yes, I have met at least one person for dating...   \n1                                                NaN   \n2                                                NaN   \n3  No, I have not met anyone for dating, romance,...   \n4                                                NaN   \n\n                                       w6_how_many_2  \\\n0  Two to Five people. I met between two and five...   \n1                                                NaN   \n2                                                NaN   \n3                                                NaN   \n4                                                NaN   \n\n                                  w6_otherdate_app_2 w6_how_many_app_2  \\\n0  No, I have not used a phone dating app in the ...               NaN   \n1                                                NaN               NaN   \n2                                                NaN               NaN   \n3                                                NaN               NaN   \n4                                                NaN               NaN   \n\n                partyid7 PERSNET_hom ppc10017   ppc21310   ppp20071  \\\n0         Leans Democrat         Yes      Yes  Every day  Not asked   \n1  Not Strong Republican   Not asked      Yes  Every day         No   \n2         Leans Democrat         Yes      Yes  Every day        Yes   \n3        Strong Democrat         Yes      Yes  Every day         No   \n4        Strong Democrat         Yes      Yes  Every day         No   \n\n                ppp20072 ppage ppagecat ppagect4                 ppeduc  \\\n0                  Never    30    25-34    30-44       Associate degree   \n1                  Never    55    55-64    45-59         Masters degree   \n2  Once or twice a month    47    45-54    45-59         Masters degree   \n3                  Never    28    25-34    18-29  12th grade NO DIPLOMA   \n4    Once a year or less    59    55-64    45-59       Bachelors degree   \n\n                      ppeducat               ppethm ppgender pphhhead  \\\n0                 Some college  White, Non-Hispanic     Male      Yes   \n1  Bachelor's degree or higher  White, Non-Hispanic   Female      Yes   \n2  Bachelor's degree or higher  White, Non-Hispanic     Male      Yes   \n3        Less than high school  White, Non-Hispanic   Female       No   \n4  Bachelor's degree or higher  White, Non-Hispanic   Female      Yes   \n\n  pphhsize                                           pphouse  \\\n0        1  A one-family house detached from any other house   \n1        4  A one-family house detached from any other house   \n2        5  A one-family house detached from any other house   \n3        3  A one-family house detached from any other house   \n4        4  A one-family house detached from any other house   \n\n               ppincimp        ppmarit ppmsacat     PPREG4  \\\n0    $40,000 to $49,999       Divorced    Metro  Northeast   \n1  $150,000 to $174,999        Married    Metro    Midwest   \n2  $200,000 to $249,999        Married    Metro      South   \n3    $40,000 to $49,999  Never married    Metro    Midwest   \n4  $175,000 to $199,999        Married    Metro      South   \n\n               ppreg9                                             pprent  \\\n0        Mid-Atlantic  Owned or being bought by you or someone in you...   \n1  East-North Central  Owned or being bought by you or someone in you...   \n2      South Atlantic  Owned or being bought by you or someone in you...   \n3  West-North Central  Owned or being bought by you or someone in you...   \n4      South Atlantic  Owned or being bought by you or someone in you...   \n\n  PPT01 PPT25 PPT612 PPT1317 PPT18OV                        ppwork Race_1  \\\n0     0     0      0       0       1  Working - as a paid employee    Yes   \n1     0     0      0       2       2           Not working - other    Yes   \n2     0     1      2       0       2  Working - as a paid employee    Yes   \n3     0     0      0       0       3           Not working - other    Yes   \n4     0     0      0       0       4  Working - as a paid employee    Yes   \n\n  Race_2 Race_3 Race_4 Race_5 Race_6 race1 race2 race3 race4 race5 race6  \\\n0     No     No     No     No     No     1     0     0     0     0     0   \n1     No     No     No     No     No     1     0     0     0     0     0   \n2     No     No     No     No     No     1     0     0     0     0     0   \n3     No     No     No     No     No     1     0     0     0     0     0   \n4     No     No     No     No     No     1     0     0     0     0     0   \n\n  race7 race8 race9 race10 race11 race12 race13 race14 race15  \\\n0     0     0     0      0      0      0      0      0      0   \n1     0     0     0      0      0      0      0      0      0   \n2     0     0     0      0      0      0      0      0      0   \n3     0     0     0      0      0      0      0      0      0   \n4     0     0     0      0      0      0      0      0      0   \n\n  w6_took_the_survey w6_prior_identity_lgb   w6_same_sex_couple  \\\n0    took the survey                   LGB      same_sex_couple   \n1    took the survey     straight/ non LGB  NOT same-sex souple   \n2    took the survey     straight/ non LGB  NOT same-sex souple   \n3    took the survey                   LGB      same_sex_couple   \n4    took the survey     straight/ non LGB  NOT same-sex souple   \n\n  w6_same_sex_couple_gender                     w6_q4  \\\n0           gay male couple    [Partner Name] is Male   \n1             hetero couple    [Partner Name] is Male   \n2             hetero couple  [Partner Name] is Female   \n3            lesbian couple  [Partner Name] is Female   \n4             hetero couple    [Partner Name] is Male   \n\n                           w6_q5                       w6_q6a w6_q6b  w6_q9  \\\n0  Yes, we are a same-sex couple  No (Not Latino or Hispanic)  White   26.0   \n1                            NaN  No (Not Latino or Hispanic)  White   52.0   \n2                            NaN  No (Not Latino or Hispanic)  White   45.0   \n3  Yes, we are a same-sex couple  No (Not Latino or Hispanic)  White   26.0   \n4                            NaN  No (Not Latino or Hispanic)  White   59.0   \n\n               w6_q10              w6_q11                       w6_q12  \\\n0  HS graduate or GED  HS graduate or GED             Leans Republican   \n1     Masters degree  HS graduate or GED             Leans Republican   \n2    Associate degree           9th grade               Leans Democrat   \n3  HS graduate or GED   Bachelors degree  Undecided/Independent/Other   \n4   Bachelors degree    Associate degree              Strong Democrat   \n\n               w6_q14               w6_q15a1_truncated  \\\n0    Associate degree                    United States   \n1   Bachelors degree                    United States   \n2    7th or 8th grade  Another country, please specify   \n3  HS graduate or GED                    United States   \n4     Masters degree                    United States   \n\n                w6_q15a4_truncated  \\\n0                    United States   \n1                    United States   \n2  Another country, please specify   \n3                    United States   \n4                    United States   \n\n                                            w6_q15a7  w6_q16  w6_q17  \\\n0          I met [Partner Name] in [Answer in Q15A6]     1.0     1.0   \n1          I met [Partner Name] in [Answer in Q15A6]     1.0     1.0   \n2          I met [Partner Name] in [Answer in Q15A6]     0.0     1.0   \n3  I met [Partner Name] somewhere else, Please sp...     0.0     0.0   \n4          I met [Partner Name] in [Answer in Q15A6]     0.0     1.0   \n\n                                       w6_attraction w6_q19 w6_q20  \\\n0        sexually attracted to men and women equally    NaN     No   \n1         sexually attracted only to opposite gender    Yes    NaN   \n2         sexually attracted only to opposite gender    Yes    NaN   \n3  sexually attracted mostly to same gender, some...    NaN     No   \n4  sexually attracted mostly to opposite gender, ...    Yes    NaN   \n\n   w6_q21a_year w6_q21a_month w6_q21a_month_flag  w6_q21b_year w6_q21b_month  \\\n0        2017.0         March                 no        2017.0         March   \n1        1983.0           May                 no        1995.0        August   \n2        2006.0       January                 no        2006.0          June   \n3        2012.0         March                 no        2013.0         April   \n4        1983.0     September                 no        1983.0       October   \n\n   w6_q21b_month_flag  w6_q21c_year w6_q21c_month  w6_q21c_month_flag  \\\n0                 0.0           NaN           NaN                 NaN   \n1                 0.0        1996.0      February                 NaN   \n2                 0.0        2006.0          July                 NaN   \n3                 0.0           NaN           NaN                 NaN   \n4                 0.0        1984.0        August                 NaN   \n\n   w6_q21d_year w6_q21d_month  w6_q21e_year w6_q21e_month  w6_q21f_year  \\\n0           NaN           NaN        2017.0          June           NaN   \n1        1996.0      February           NaN           NaN           NaN   \n2        2008.0           May           NaN           NaN           NaN   \n3           NaN           NaN        2013.0          June           NaN   \n4        1984.0        August           NaN           NaN           NaN   \n\n  w6_q21f_month           w6_identity_all       w6_outness_all  \\\n0           NaN                  bisexual   Only a few of them   \n1           NaN  heterosexual or straight                  NaN   \n2           NaN  heterosexual or straight                  NaN   \n3           NaN                  bisexual  All or most of them   \n4           NaN  heterosexual or straight                  NaN   \n\n   w6_outness_timing_all                      w6_q23  w6_q24_length  \\\n0                   13.0               I earned more          232.0   \n1                    NaN  [Partner Name] earned more          213.0   \n2                    NaN               I earned more           87.0   \n3                   17.0               I earned more           80.0   \n4                    NaN  [Partner Name] earned more          648.0   \n\n                  w6_q25  w6_q26 w6_q27 w6_q28 w6_friend_connect_1_all  \\\n0  Different High School     NaN     No     No                      no   \n1  Different High School     2.0     No     No                      no   \n2  Different High School     2.0     No     No                      no   \n3  Different High School     NaN     No     No                      no   \n4  Different High School     2.0     No     No                      no   \n\n  w6_friend_connect_2_all w6_friend_connect_3_all w6_friend_connect_4_all  \\\n0                      no                      no                     yes   \n1                      no                      no                     yes   \n2                      no                      no                     yes   \n3                      no                      no                     yes   \n4                      no                      no                     yes   \n\n                                              w6_q32     w6_q34  \\\n0  Yes, an Internet dating or matchmaking site (l...        NaN   \n1  No, I did NOT meet [Partner Name] through the ...  Excellent   \n2  Yes, an Internet dating or matchmaking site (l...       Good   \n3  Yes, a social networking site (like Facebook o...        NaN   \n4  No, I did NOT meet [Partner Name] through the ...  Excellent   \n\n                                    w6_otherdate_all  \\\n0  Yes, I have met at least one person for dating...   \n1  No, I have not met anyone for dating, romance,...   \n2  No, I have not met anyone for dating, romance,...   \n3  No, I have not met anyone for dating, romance,...   \n4  No, I have not met anyone for dating, romance,...   \n\n                                     w6_how_many_all w6_otherdate_app_all  \\\n0  Yes, I have met at least one person for dating...                  1.0   \n1                                                NaN                  NaN   \n2                                                NaN                  NaN   \n3                                                NaN                  NaN   \n4                                                NaN                  NaN   \n\n  w6_how_many_app_all  w6_number_people_met w6_otherdate_dichotomous  \\\n0                 NaN                   3.5                      yes   \n1                 NaN                   0.0                       no   \n2                 NaN                   0.0                       no   \n3                 NaN                   0.0                       no   \n4                 NaN                   0.0                       no   \n\n  w6_married  relate_duration_at_w6_years  w6_number_people_met_app  \\\n0         no                          NaN                       0.0   \n1        yes                    21.916666                       NaN   \n2        yes                    11.083333                       NaN   \n3         no                          NaN                       NaN   \n4        yes                    33.750000                       NaN   \n\n   weight_combo_v2                 partnership_status  female  \\\n0         0.390050  unpartnered, has had past partner       0   \n1         0.999373                            married       1   \n2         0.793209                            married       0   \n3         0.588978  unpartnered, has had past partner       1   \n4         0.956191                            married       1   \n\n   year_fraction_met  year_fraction_relstart  age_when_met  \\\n0        2017.208374             2017.208374          30.0   \n1        1983.375000             1995.625000          21.0   \n2        2006.041626             2006.458374          36.0   \n3        2012.208374             2013.291626          23.0   \n4        1983.708374             1983.791626          25.0   \n\n   time_from_met_to_rel  year_fraction_first_cohab  time_from_rel_to_cohab  \\\n0              0.000000                        NaN                     NaN   \n1             12.250000                1996.125000                0.500000   \n2              0.416748                2006.541626                0.083252   \n3              1.083252                        NaN                     NaN   \n4              0.083252                1984.625000                0.833374   \n\n  hcm2017q24_R_cowork hcm2017q24_R_friend hcm2017q24_R_family  \\\n0                  no                  no                  no   \n1                 yes                  no                  no   \n2                  no                  no                  no   \n3                  no                  no                  no   \n4                  no                  no                  no   \n\n  hcm2017q24_R_sig_other hcm2017q24_R_neighbor hcm2017q24_P_cowork  \\\n0                     no                    no                  no   \n1                     no                    no                 yes   \n2                     no                    no                  no   \n3                     no                    no                  no   \n4                     no                   yes                  no   \n\n  hcm2017q24_P_friend hcm2017q24_P_family hcm2017q24_P_sig_other  \\\n0                  no                  no                     no   \n1                  no                  no                     no   \n2                  no                  no                     no   \n3                  no                  no                     no   \n4                  no                  no                     no   \n\n  hcm2017q24_P_neighbor hcm2017q24_btwn_I_cowork hcm2017q24_btwn_I_friend  \\\n0                    no                       no                       no   \n1                    no                       no                       no   \n2                    no                       no                       no   \n3                    no                       no                       no   \n4                   yes                       no                       no   \n\n  hcm2017q24_btwn_I_family hcm2017q24_btwn_I_sig_other  \\\n0                       no                          no   \n1                       no                          no   \n2                       no                          no   \n3                       no                          no   \n4                       no                          no   \n\n  hcm2017q24_btwn_I_neighbor hcm2017q24_school hcm2017q24_college  \\\n0                         no                no                 no   \n1                         no                no                 no   \n2                         no                no                 no   \n3                         no                no                 no   \n4                         no                no                 no   \n\n  hcm2017q24_mil hcm2017q24_church hcm2017q24_vol_org hcm2017q24_customer  \\\n0             no                no                 no                  no   \n1             no                no                 no                  no   \n2             no                no                 no                  no   \n3             no                no                 no                  no   \n4             no                no                 no                  no   \n\n  hcm2017q24_bar_restaurant hcm2017q24_party hcm2017q24_internet_other  \\\n0                        no               no                        no   \n1                        no               no                        no   \n2                       yes               no                       yes   \n3                        no               no                        no   \n4                        no               no                        no   \n\n  hcm2017q24_internet_dating hcm2017q24_internet_soc_network  \\\n0                        yes                              no   \n1                         no                              no   \n2                         no                              no   \n3                         no                              no   \n4                         no                              no   \n\n  hcm2017q24_internet_game hcm2017q24_internet_chat hcm2017q24_internet_org  \\\n0                       no                       no                      no   \n1                       no                       no                      no   \n2                       no                       no                      no   \n3                      yes                       no                      no   \n4                       no                       no                      no   \n\n  hcm2017q24_public hcm2017q24_blind_date hcm2017q24_vacation  \\\n0                no                    no                  no   \n1                no                    no                  no   \n2                no                    no                  no   \n3                no                    no                  no   \n4                no                   yes                  no   \n\n  hcm2017q24_single_serve_nonint hcm2017q24_business_trip  \\\n0                             no                       no   \n1                             no                       no   \n2                             no                       no   \n3                             no                       no   \n4                             no                       no   \n\n  hcm2017q24_work_neighbors hcm2017q24_met_online  hcm2017_q24_length  \\\n0                        no                   yes               232.0   \n1                        no                    no               213.0   \n2                        no                   yes                87.0   \n3                        no                   yes                80.0   \n4                        no                    no               818.0   \n\n   hcm2017q24_summary_all_codes w6_relationship_quality  \\\n0                           1.0                     NaN   \n1                           2.0               excellent   \n2                           2.0                    good   \n3                           1.0                     NaN   \n4                           3.0               excellent   \n\n  hcm2017q24_met_through_family hcm2017q24_met_through_friend  \\\n0                            no                            no   \n1                            no                            no   \n2                            no                            no   \n3                            no                            no   \n4                            no                            no   \n\n  hcm2017q24_met_through_as_nghbrs hcm2017q24_met_as_through_cowork  \\\n0                               no                               no   \n1                               no                              yes   \n2                               no                               no   \n3                               no                               no   \n4                              yes                               no   \n\n  w6_subject_race interracial_5cat  partner_mother_yrsed  \\\n0           White               no                  12.0   \n1           White               no                  12.0   \n2           White               no                   9.0   \n3           White               no                  16.0   \n4           White               no                  14.0   \n\n   subject_mother_yrsed  partner_yrsed  subject_yrsed  \n0                  14.0           12.0           14.0  \n1                  16.0           17.0           17.0  \n2                   7.5           14.0           17.0  \n3                  12.0           12.0           12.0  \n4                  17.0           16.0           16.0  ",
      "text/html": "<div>\n<style scoped>\n    .dataframe tbody tr th:only-of-type {\n        vertical-align: middle;\n    }\n\n    .dataframe tbody tr th {\n        vertical-align: top;\n    }\n\n    .dataframe thead th {\n        text-align: right;\n    }\n</style>\n<table border=\"1\" class=\"dataframe\">\n  <thead>\n    <tr style=\"text-align: right;\">\n      <th></th>\n      <th>CaseID</th>\n      <th>CASEID_NEW</th>\n      <th>qflag</th>\n      <th>weight1</th>\n      <th>weight1_freqwt</th>\n      <th>weight2</th>\n      <th>weight1a</th>\n      <th>weight1a_freqwt</th>\n      <th>weight_combo</th>\n      <th>weight_combo_freqwt</th>\n      <th>duration</th>\n      <th>speed_flag</th>\n      <th>consent</th>\n      <th>xlgb</th>\n      <th>S1</th>\n      <th>S2</th>\n      <th>S3</th>\n      <th>DOV_Branch</th>\n      <th>Q3_Refused</th>\n      <th>Q4</th>\n      <th>Q5</th>\n      <th>Q6A</th>\n      <th>Q6B</th>\n      <th>Q9</th>\n      <th>Q10</th>\n      <th>Q11</th>\n      <th>Q12</th>\n      <th>Q14</th>\n      <th>Q15A7</th>\n      <th>Q16</th>\n      <th>Q16_Refused</th>\n      <th>Q17A</th>\n      <th>Q17B</th>\n      <th>Q17C</th>\n      <th>Q17D</th>\n      <th>Q19</th>\n      <th>Q20</th>\n      <th>Q21A_Year</th>\n      <th>Q21A_Month</th>\n      <th>Q21B_Year</th>\n      <th>Q21B_Month</th>\n      <th>Q21C_Year</th>\n      <th>Q21C_Month</th>\n      <th>Q21D_Year</th>\n      <th>Q21D_Month</th>\n      <th>w6_identity</th>\n      <th>w6_outness</th>\n      <th>w6_outness_timing</th>\n      <th>Q23</th>\n      <th>Q24_Refused</th>\n      <th>Q25</th>\n      <th>Q26</th>\n      <th>Q27</th>\n      <th>Q28</th>\n      <th>w6_friend_connect_1</th>\n      <th>w6_friend_connect_2</th>\n      <th>w6_friend_connect_3</th>\n      <th>w6_friend_connect_4</th>\n      <th>w6_friend_connect_Refused</th>\n      <th>Q32</th>\n      <th>Q34</th>\n      <th>Q35_Refused</th>\n      <th>w6_sex_frequency</th>\n      <th>w6_otherdate</th>\n      <th>w6_how_many</th>\n      <th>w6_how_meet_Refused</th>\n      <th>w6_otherdate_app</th>\n      <th>w6_how_many_app</th>\n      <th>Past_Partner_Q1</th>\n      <th>w6_relationship_end_nonmar</th>\n      <th>w6_breakup_nonmar</th>\n      <th>w6_relationship_end_mar</th>\n      <th>w6_who_breakup</th>\n      <th>Q5_2</th>\n      <th>Q6A_2</th>\n      <th>Q9B_2</th>\n      <th>Q10_2</th>\n      <th>Q11_2</th>\n      <th>Q12_2</th>\n      <th>Q14_2</th>\n      <th>Q15A7_2_1</th>\n      <th>Q16_2</th>\n      <th>Q16_2_Codes</th>\n      <th>Q17B_2</th>\n      <th>Q17C_2</th>\n      <th>Q17D_2</th>\n      <th>Q20_2</th>\n      <th>Q21A_2_Year</th>\n      <th>Q21A_2_Month</th>\n      <th>Q21B_2_Year</th>\n      <th>Q21B_2_Month</th>\n      <th>Q21C_2_Year</th>\n      <th>Q21C_2_Month</th>\n      <th>Q21D_2_Year</th>\n      <th>Q21D_2_Month</th>\n      <th>Q21E_2_Year</th>\n      <th>Q21E_2_Month</th>\n      <th>Q21F_2_start_range</th>\n      <th>Q21F_2_Year</th>\n      <th>Q21F_2_Month</th>\n      <th>w6_identity_2</th>\n      <th>w6_outness_2</th>\n      <th>w6_outness_timing_2</th>\n      <th>Q23_2</th>\n      <th>Q25_2</th>\n      <th>Q26_2</th>\n      <th>Q27_2</th>\n      <th>Q28_2</th>\n      <th>w6_friend_connect_2_1</th>\n      <th>w6_friend_connect_2_2</th>\n      <th>w6_friend_connect_2_3</th>\n      <th>w6_friend_connect_2_4</th>\n      <th>w6_friend_connect_2_Refused</th>\n      <th>Q32_2</th>\n      <th>w6_otherdate_2</th>\n      <th>w6_how_many_2</th>\n      <th>w6_otherdate_app_2</th>\n      <th>w6_how_many_app_2</th>\n      <th>partyid7</th>\n      <th>PERSNET_hom</th>\n      <th>ppc10017</th>\n      <th>ppc21310</th>\n      <th>ppp20071</th>\n      <th>ppp20072</th>\n      <th>ppage</th>\n      <th>ppagecat</th>\n      <th>ppagect4</th>\n      <th>ppeduc</th>\n      <th>ppeducat</th>\n      <th>ppethm</th>\n      <th>ppgender</th>\n      <th>pphhhead</th>\n      <th>pphhsize</th>\n      <th>pphouse</th>\n      <th>ppincimp</th>\n      <th>ppmarit</th>\n      <th>ppmsacat</th>\n      <th>PPREG4</th>\n      <th>ppreg9</th>\n      <th>pprent</th>\n      <th>PPT01</th>\n      <th>PPT25</th>\n      <th>PPT612</th>\n      <th>PPT1317</th>\n      <th>PPT18OV</th>\n      <th>ppwork</th>\n      <th>Race_1</th>\n      <th>Race_2</th>\n      <th>Race_3</th>\n      <th>Race_4</th>\n      <th>Race_5</th>\n      <th>Race_6</th>\n      <th>race1</th>\n      <th>race2</th>\n      <th>race3</th>\n      <th>race4</th>\n      <th>race5</th>\n      <th>race6</th>\n      <th>race7</th>\n      <th>race8</th>\n      <th>race9</th>\n      <th>race10</th>\n      <th>race11</th>\n      <th>race12</th>\n      <th>race13</th>\n      <th>race14</th>\n      <th>race15</th>\n      <th>w6_took_the_survey</th>\n      <th>w6_prior_identity_lgb</th>\n      <th>w6_same_sex_couple</th>\n      <th>w6_same_sex_couple_gender</th>\n      <th>w6_q4</th>\n      <th>w6_q5</th>\n      <th>w6_q6a</th>\n      <th>w6_q6b</th>\n      <th>w6_q9</th>\n      <th>w6_q10</th>\n      <th>w6_q11</th>\n      <th>w6_q12</th>\n      <th>w6_q14</th>\n      <th>w6_q15a1_truncated</th>\n      <th>w6_q15a4_truncated</th>\n      <th>w6_q15a7</th>\n      <th>w6_q16</th>\n      <th>w6_q17</th>\n      <th>w6_attraction</th>\n      <th>w6_q19</th>\n      <th>w6_q20</th>\n      <th>w6_q21a_year</th>\n      <th>w6_q21a_month</th>\n      <th>w6_q21a_month_flag</th>\n      <th>w6_q21b_year</th>\n      <th>w6_q21b_month</th>\n      <th>w6_q21b_month_flag</th>\n      <th>w6_q21c_year</th>\n      <th>w6_q21c_month</th>\n      <th>w6_q21c_month_flag</th>\n      <th>w6_q21d_year</th>\n      <th>w6_q21d_month</th>\n      <th>w6_q21e_year</th>\n      <th>w6_q21e_month</th>\n      <th>w6_q21f_year</th>\n      <th>w6_q21f_month</th>\n      <th>w6_identity_all</th>\n      <th>w6_outness_all</th>\n      <th>w6_outness_timing_all</th>\n      <th>w6_q23</th>\n      <th>w6_q24_length</th>\n      <th>w6_q25</th>\n      <th>w6_q26</th>\n      <th>w6_q27</th>\n      <th>w6_q28</th>\n      <th>w6_friend_connect_1_all</th>\n      <th>w6_friend_connect_2_all</th>\n      <th>w6_friend_connect_3_all</th>\n      <th>w6_friend_connect_4_all</th>\n      <th>w6_q32</th>\n      <th>w6_q34</th>\n      <th>w6_otherdate_all</th>\n      <th>w6_how_many_all</th>\n      <th>w6_otherdate_app_all</th>\n      <th>w6_how_many_app_all</th>\n      <th>w6_number_people_met</th>\n      <th>w6_otherdate_dichotomous</th>\n      <th>w6_married</th>\n      <th>relate_duration_at_w6_years</th>\n      <th>w6_number_people_met_app</th>\n      <th>weight_combo_v2</th>\n      <th>partnership_status</th>\n      <th>female</th>\n      <th>year_fraction_met</th>\n      <th>year_fraction_relstart</th>\n      <th>age_when_met</th>\n      <th>time_from_met_to_rel</th>\n      <th>year_fraction_first_cohab</th>\n      <th>time_from_rel_to_cohab</th>\n      <th>hcm2017q24_R_cowork</th>\n      <th>hcm2017q24_R_friend</th>\n      <th>hcm2017q24_R_family</th>\n      <th>hcm2017q24_R_sig_other</th>\n      <th>hcm2017q24_R_neighbor</th>\n      <th>hcm2017q24_P_cowork</th>\n      <th>hcm2017q24_P_friend</th>\n      <th>hcm2017q24_P_family</th>\n      <th>hcm2017q24_P_sig_other</th>\n      <th>hcm2017q24_P_neighbor</th>\n      <th>hcm2017q24_btwn_I_cowork</th>\n      <th>hcm2017q24_btwn_I_friend</th>\n      <th>hcm2017q24_btwn_I_family</th>\n      <th>hcm2017q24_btwn_I_sig_other</th>\n      <th>hcm2017q24_btwn_I_neighbor</th>\n      <th>hcm2017q24_school</th>\n      <th>hcm2017q24_college</th>\n      <th>hcm2017q24_mil</th>\n      <th>hcm2017q24_church</th>\n      <th>hcm2017q24_vol_org</th>\n      <th>hcm2017q24_customer</th>\n      <th>hcm2017q24_bar_restaurant</th>\n      <th>hcm2017q24_party</th>\n      <th>hcm2017q24_internet_other</th>\n      <th>hcm2017q24_internet_dating</th>\n      <th>hcm2017q24_internet_soc_network</th>\n      <th>hcm2017q24_internet_game</th>\n      <th>hcm2017q24_internet_chat</th>\n      <th>hcm2017q24_internet_org</th>\n      <th>hcm2017q24_public</th>\n      <th>hcm2017q24_blind_date</th>\n      <th>hcm2017q24_vacation</th>\n      <th>hcm2017q24_single_serve_nonint</th>\n      <th>hcm2017q24_business_trip</th>\n      <th>hcm2017q24_work_neighbors</th>\n      <th>hcm2017q24_met_online</th>\n      <th>hcm2017_q24_length</th>\n      <th>hcm2017q24_summary_all_codes</th>\n      <th>w6_relationship_quality</th>\n      <th>hcm2017q24_met_through_family</th>\n      <th>hcm2017q24_met_through_friend</th>\n      <th>hcm2017q24_met_through_as_nghbrs</th>\n      <th>hcm2017q24_met_as_through_cowork</th>\n      <th>w6_subject_race</th>\n      <th>interracial_5cat</th>\n      <th>partner_mother_yrsed</th>\n      <th>subject_mother_yrsed</th>\n      <th>partner_yrsed</th>\n      <th>subject_yrsed</th>\n    </tr>\n  </thead>\n  <tbody>\n    <tr>\n      <th>0</th>\n      <td>2</td>\n      <td>2014039</td>\n      <td>Qualified</td>\n      <td>NaN</td>\n      <td>NaN</td>\n      <td>0.8945</td>\n      <td>NaN</td>\n      <td>NaN</td>\n      <td>0.277188</td>\n      <td>19240.0</td>\n      <td>9</td>\n      <td>Completed survey in over 2 minutes</td>\n      <td>Yes, I agree to participate</td>\n      <td>LGB sample</td>\n      <td>No, I am not Married</td>\n      <td>No, I am single, with no boyfriend, no girlfri...</td>\n      <td>Yes</td>\n      <td>2</td>\n      <td>NaN</td>\n      <td>NaN</td>\n      <td>NaN</td>\n      <td>NaN</td>\n      <td>NaN</td>\n      <td>NaN</td>\n      <td>NaN</td>\n      <td>NaN</td>\n      <td>NaN</td>\n      <td>NaN</td>\n      <td>NaN</td>\n      <td>NaN</td>\n      <td>NaN</td>\n      <td>NaN</td>\n      <td>NaN</td>\n      <td>NaN</td>\n      <td>NaN</td>\n      <td>NaN</td>\n      <td>NaN</td>\n      <td>NaN</td>\n      <td>NaN</td>\n      <td>NaN</td>\n      <td>NaN</td>\n      <td>NaN</td>\n      <td>NaN</td>\n      <td>NaN</td>\n      <td>NaN</td>\n      <td>NaN</td>\n      <td>NaN</td>\n      <td>NaN</td>\n      <td>NaN</td>\n      <td>NaN</td>\n      <td>NaN</td>\n      <td>NaN</td>\n      <td>NaN</td>\n      <td>NaN</td>\n      <td>NaN</td>\n      <td>NaN</td>\n      <td>NaN</td>\n      <td>NaN</td>\n      <td>NaN</td>\n      <td>NaN</td>\n      <td>NaN</td>\n      <td>NaN</td>\n      <td>NaN</td>\n      <td>NaN</td>\n      <td>NaN</td>\n      <td>NaN</td>\n      <td>NaN</td>\n      <td>NaN</td>\n      <td>No</td>\n      <td>We broke up</td>\n      <td>I wanted to break up more</td>\n      <td>NaN</td>\n      <td>NaN</td>\n      <td>Yes, we were a same-sex couple</td>\n      <td>No (Not Latino or Hispanic)</td>\n      <td>1991.0</td>\n      <td>HS graduate or GED</td>\n      <td>HS graduate or GED</td>\n      <td>Leans Republican</td>\n      <td>Associate degree</td>\n      <td>I met [Partner Name] in [answer in Q15A7_2]</td>\n      <td>1.0</td>\n      <td>NaN</td>\n      <td>Once</td>\n      <td>NaN</td>\n      <td>I am equally sexually attracted to men and women</td>\n      <td>No</td>\n      <td>2017</td>\n      <td>March</td>\n      <td>2017</td>\n      <td>March</td>\n      <td>NaN</td>\n      <td>NaN</td>\n      <td>NaN</td>\n      <td>NaN</td>\n      <td>2017</td>\n      <td>June</td>\n      <td>Q21B_2</td>\n      <td>NaN</td>\n      <td>NaN</td>\n      <td>bisexual</td>\n      <td>Only a few of them</td>\n      <td>13</td>\n      <td>I earned more</td>\n      <td>Different High School</td>\n      <td>NaN</td>\n      <td>No</td>\n      <td>No</td>\n      <td>No</td>\n      <td>No</td>\n      <td>No</td>\n      <td>Yes</td>\n      <td>No</td>\n      <td>Yes, an Internet dating or matchmaking site (l...</td>\n      <td>Yes, I have met at least one person for dating...</td>\n      <td>Two to Five people. I met between two and five...</td>\n      <td>No, I have not used a phone dating app in the ...</td>\n      <td>NaN</td>\n      <td>Leans Democrat</td>\n      <td>Yes</td>\n      <td>Yes</td>\n      <td>Every day</td>\n      <td>Not asked</td>\n      <td>Never</td>\n      <td>30</td>\n      <td>25-34</td>\n      <td>30-44</td>\n      <td>Associate degree</td>\n      <td>Some college</td>\n      <td>White, Non-Hispanic</td>\n      <td>Male</td>\n      <td>Yes</td>\n      <td>1</td>\n      <td>A one-family house detached from any other house</td>\n      <td>$40,000 to $49,999</td>\n      <td>Divorced</td>\n      <td>Metro</td>\n      <td>Northeast</td>\n      <td>Mid-Atlantic</td>\n      <td>Owned or being bought by you or someone in you...</td>\n      <td>0</td>\n      <td>0</td>\n      <td>0</td>\n      <td>0</td>\n      <td>1</td>\n      <td>Working - as a paid employee</td>\n      <td>Yes</td>\n      <td>No</td>\n      <td>No</td>\n      <td>No</td>\n      <td>No</td>\n      <td>No</td>\n      <td>1</td>\n      <td>0</td>\n      <td>0</td>\n      <td>0</td>\n      <td>0</td>\n      <td>0</td>\n      <td>0</td>\n      <td>0</td>\n      <td>0</td>\n      <td>0</td>\n      <td>0</td>\n      <td>0</td>\n      <td>0</td>\n      <td>0</td>\n      <td>0</td>\n      <td>took the survey</td>\n      <td>LGB</td>\n      <td>same_sex_couple</td>\n      <td>gay male couple</td>\n      <td>[Partner Name] is Male</td>\n      <td>Yes, we are a same-sex couple</td>\n      <td>No (Not Latino or Hispanic)</td>\n      <td>White</td>\n      <td>26.0</td>\n      <td>HS graduate or GED</td>\n      <td>HS graduate or GED</td>\n      <td>Leans Republican</td>\n      <td>Associate degree</td>\n      <td>United States</td>\n      <td>United States</td>\n      <td>I met [Partner Name] in [Answer in Q15A6]</td>\n      <td>1.0</td>\n      <td>1.0</td>\n      <td>sexually attracted to men and women equally</td>\n      <td>NaN</td>\n      <td>No</td>\n      <td>2017.0</td>\n      <td>March</td>\n      <td>no</td>\n      <td>2017.0</td>\n      <td>March</td>\n      <td>0.0</td>\n      <td>NaN</td>\n      <td>NaN</td>\n      <td>NaN</td>\n      <td>NaN</td>\n      <td>NaN</td>\n      <td>2017.0</td>\n      <td>June</td>\n      <td>NaN</td>\n      <td>NaN</td>\n      <td>bisexual</td>\n      <td>Only a few of them</td>\n      <td>13.0</td>\n      <td>I earned more</td>\n      <td>232.0</td>\n      <td>Different High School</td>\n      <td>NaN</td>\n      <td>No</td>\n      <td>No</td>\n      <td>no</td>\n      <td>no</td>\n      <td>no</td>\n      <td>yes</td>\n      <td>Yes, an Internet dating or matchmaking site (l...</td>\n      <td>NaN</td>\n      <td>Yes, I have met at least one person for dating...</td>\n      <td>Yes, I have met at least one person for dating...</td>\n      <td>1.0</td>\n      <td>NaN</td>\n      <td>3.5</td>\n      <td>yes</td>\n      <td>no</td>\n      <td>NaN</td>\n      <td>0.0</td>\n      <td>0.390050</td>\n      <td>unpartnered, has had past partner</td>\n      <td>0</td>\n      <td>2017.208374</td>\n      <td>2017.208374</td>\n      <td>30.0</td>\n      <td>0.000000</td>\n      <td>NaN</td>\n      <td>NaN</td>\n      <td>no</td>\n      <td>no</td>\n      <td>no</td>\n      <td>no</td>\n      <td>no</td>\n      <td>no</td>\n      <td>no</td>\n      <td>no</td>\n      <td>no</td>\n      <td>no</td>\n      <td>no</td>\n      <td>no</td>\n      <td>no</td>\n      <td>no</td>\n      <td>no</td>\n      <td>no</td>\n      <td>no</td>\n      <td>no</td>\n      <td>no</td>\n      <td>no</td>\n      <td>no</td>\n      <td>no</td>\n      <td>no</td>\n      <td>no</td>\n      <td>yes</td>\n      <td>no</td>\n      <td>no</td>\n      <td>no</td>\n      <td>no</td>\n      <td>no</td>\n      <td>no</td>\n      <td>no</td>\n      <td>no</td>\n      <td>no</td>\n      <td>no</td>\n      <td>yes</td>\n      <td>232.0</td>\n      <td>1.0</td>\n      <td>NaN</td>\n      <td>no</td>\n      <td>no</td>\n      <td>no</td>\n      <td>no</td>\n      <td>White</td>\n      <td>no</td>\n      <td>12.0</td>\n      <td>14.0</td>\n      <td>12.0</td>\n      <td>14.0</td>\n    </tr>\n    <tr>\n      <th>1</th>\n      <td>3</td>\n      <td>2019003</td>\n      <td>Qualified</td>\n      <td>0.9078</td>\n      <td>71115.0</td>\n      <td>NaN</td>\n      <td>0.9026</td>\n      <td>70707.0</td>\n      <td>1.020621</td>\n      <td>70841.0</td>\n      <td>11</td>\n      <td>Completed survey in over 2 minutes</td>\n      <td>Yes, I agree to participate</td>\n      <td>gen pop</td>\n      <td>Yes, I am Married</td>\n      <td>NaN</td>\n      <td>NaN</td>\n      <td>1</td>\n      <td>NaN</td>\n      <td>[Partner Name] is Male</td>\n      <td>NaN</td>\n      <td>No (Not Latino or Hispanic)</td>\n      <td>White</td>\n      <td>52.0</td>\n      <td>Masters degree</td>\n      <td>HS graduate or GED</td>\n      <td>Leans Republican</td>\n      <td>Bachelors degree</td>\n      <td>I met [Partner Name] in [Answer in Q15A6]</td>\n      <td>1.0</td>\n      <td>NaN</td>\n      <td>Once (this is my first marriage)</td>\n      <td>NaN</td>\n      <td>I am sexually attracted only to men</td>\n      <td>NaN</td>\n      <td>Yes</td>\n      <td>NaN</td>\n      <td>1983</td>\n      <td>May</td>\n      <td>1995</td>\n      <td>August</td>\n      <td>1996</td>\n      <td>February</td>\n      <td>1996</td>\n      <td>February</td>\n      <td>heterosexual or straight</td>\n      <td>NaN</td>\n      <td>NaN</td>\n      <td>[Partner Name] earned more</td>\n      <td>NaN</td>\n      <td>Different High School</td>\n      <td>Did not attend same college or university</td>\n      <td>No</td>\n      <td>No</td>\n      <td>No</td>\n      <td>No</td>\n      <td>No</td>\n      <td>Yes</td>\n      <td>No</td>\n      <td>No, I did NOT meet [Partner Name] through the ...</td>\n      <td>Excellent</td>\n      <td>NaN</td>\n      <td>Once a month or less</td>\n      <td>No, I have not met anyone for dating, romance,...</td>\n      <td>NaN</td>\n      <td>NaN</td>\n      <td>NaN</td>\n      <td>NaN</td>\n      <td>NaN</td>\n      <td>NaN</td>\n      <td>NaN</td>\n      <td>NaN</td>\n      <td>NaN</td>\n      <td>NaN</td>\n      <td>NaN</td>\n      <td>NaN</td>\n      <td>NaN</td>\n      <td>NaN</td>\n      <td>NaN</td>\n      <td>NaN</td>\n      <td>NaN</td>\n      <td>NaN</td>\n      <td>NaN</td>\n      <td>NaN</td>\n      <td>NaN</td>\n      <td>NaN</td>\n      <td>NaN</td>\n      <td>NaN</td>\n      <td>NaN</td>\n      <td>NaN</td>\n      <td>NaN</td>\n      <td>NaN</td>\n      <td>NaN</td>\n      <td>NaN</td>\n      <td>NaN</td>\n      <td>NaN</td>\n      <td>NaN</td>\n      <td>NaN</td>\n      <td>NaN</td>\n      <td>NaN</td>\n      <td>NaN</td>\n      <td>NaN</td>\n      <td>NaN</td>\n      <td>NaN</td>\n      <td>NaN</td>\n      <td>NaN</td>\n      <td>NaN</td>\n      <td>NaN</td>\n      <td>NaN</td>\n      <td>NaN</td>\n      <td>NaN</td>\n      <td>NaN</td>\n      <td>NaN</td>\n      <td>NaN</td>\n      <td>NaN</td>\n      <td>NaN</td>\n      <td>NaN</td>\n      <td>NaN</td>\n      <td>Not Strong Republican</td>\n      <td>Not asked</td>\n      <td>Yes</td>\n      <td>Every day</td>\n      <td>No</td>\n      <td>Never</td>\n      <td>55</td>\n      <td>55-64</td>\n      <td>45-59</td>\n      <td>Masters degree</td>\n      <td>Bachelor's degree or higher</td>\n      <td>White, Non-Hispanic</td>\n      <td>Female</td>\n      <td>Yes</td>\n      <td>4</td>\n      <td>A one-family house detached from any other house</td>\n      <td>$150,000 to $174,999</td>\n      <td>Married</td>\n      <td>Metro</td>\n      <td>Midwest</td>\n      <td>East-North Central</td>\n      <td>Owned or being bought by you or someone in you...</td>\n      <td>0</td>\n      <td>0</td>\n      <td>0</td>\n      <td>2</td>\n      <td>2</td>\n      <td>Not working - other</td>\n      <td>Yes</td>\n      <td>No</td>\n      <td>No</td>\n      <td>No</td>\n      <td>No</td>\n      <td>No</td>\n      <td>1</td>\n      <td>0</td>\n      <td>0</td>\n      <td>0</td>\n      <td>0</td>\n      <td>0</td>\n      <td>0</td>\n      <td>0</td>\n      <td>0</td>\n      <td>0</td>\n      <td>0</td>\n      <td>0</td>\n      <td>0</td>\n      <td>0</td>\n      <td>0</td>\n      <td>took the survey</td>\n      <td>straight/ non LGB</td>\n      <td>NOT same-sex souple</td>\n      <td>hetero couple</td>\n      <td>[Partner Name] is Male</td>\n      <td>NaN</td>\n      <td>No (Not Latino or Hispanic)</td>\n      <td>White</td>\n      <td>52.0</td>\n      <td>Masters degree</td>\n      <td>HS graduate or GED</td>\n      <td>Leans Republican</td>\n      <td>Bachelors degree</td>\n      <td>United States</td>\n      <td>United States</td>\n      <td>I met [Partner Name] in [Answer in Q15A6]</td>\n      <td>1.0</td>\n      <td>1.0</td>\n      <td>sexually attracted only to opposite gender</td>\n      <td>Yes</td>\n      <td>NaN</td>\n      <td>1983.0</td>\n      <td>May</td>\n      <td>no</td>\n      <td>1995.0</td>\n      <td>August</td>\n      <td>0.0</td>\n      <td>1996.0</td>\n      <td>February</td>\n      <td>NaN</td>\n      <td>1996.0</td>\n      <td>February</td>\n      <td>NaN</td>\n      <td>NaN</td>\n      <td>NaN</td>\n      <td>NaN</td>\n      <td>heterosexual or straight</td>\n      <td>NaN</td>\n      <td>NaN</td>\n      <td>[Partner Name] earned more</td>\n      <td>213.0</td>\n      <td>Different High School</td>\n      <td>2.0</td>\n      <td>No</td>\n      <td>No</td>\n      <td>no</td>\n      <td>no</td>\n      <td>no</td>\n      <td>yes</td>\n      <td>No, I did NOT meet [Partner Name] through the ...</td>\n      <td>Excellent</td>\n      <td>No, I have not met anyone for dating, romance,...</td>\n      <td>NaN</td>\n      <td>NaN</td>\n      <td>NaN</td>\n      <td>0.0</td>\n      <td>no</td>\n      <td>yes</td>\n      <td>21.916666</td>\n      <td>NaN</td>\n      <td>0.999373</td>\n      <td>married</td>\n      <td>1</td>\n      <td>1983.375000</td>\n      <td>1995.625000</td>\n      <td>21.0</td>\n      <td>12.250000</td>\n      <td>1996.125000</td>\n      <td>0.500000</td>\n      <td>yes</td>\n      <td>no</td>\n      <td>no</td>\n      <td>no</td>\n      <td>no</td>\n      <td>yes</td>\n      <td>no</td>\n      <td>no</td>\n      <td>no</td>\n      <td>no</td>\n      <td>no</td>\n      <td>no</td>\n      <td>no</td>\n      <td>no</td>\n      <td>no</td>\n      <td>no</td>\n      <td>no</td>\n      <td>no</td>\n      <td>no</td>\n      <td>no</td>\n      <td>no</td>\n      <td>no</td>\n      <td>no</td>\n      <td>no</td>\n      <td>no</td>\n      <td>no</td>\n      <td>no</td>\n      <td>no</td>\n      <td>no</td>\n      <td>no</td>\n      <td>no</td>\n      <td>no</td>\n      <td>no</td>\n      <td>no</td>\n      <td>no</td>\n      <td>no</td>\n      <td>213.0</td>\n      <td>2.0</td>\n      <td>excellent</td>\n      <td>no</td>\n      <td>no</td>\n      <td>no</td>\n      <td>yes</td>\n      <td>White</td>\n      <td>no</td>\n      <td>12.0</td>\n      <td>16.0</td>\n      <td>17.0</td>\n      <td>17.0</td>\n    </tr>\n    <tr>\n      <th>2</th>\n      <td>5</td>\n      <td>2145527</td>\n      <td>Qualified</td>\n      <td>0.7205</td>\n      <td>56442.0</td>\n      <td>NaN</td>\n      <td>0.7164</td>\n      <td>56121.0</td>\n      <td>0.810074</td>\n      <td>56227.0</td>\n      <td>7</td>\n      <td>Completed survey in over 2 minutes</td>\n      <td>Yes, I agree to participate</td>\n      <td>gen pop</td>\n      <td>Yes, I am Married</td>\n      <td>NaN</td>\n      <td>NaN</td>\n      <td>1</td>\n      <td>NaN</td>\n      <td>[Partner Name] is Female</td>\n      <td>NaN</td>\n      <td>No (Not Latino or Hispanic)</td>\n      <td>White</td>\n      <td>45.0</td>\n      <td>Associate degree</td>\n      <td>9th grade</td>\n      <td>Leans Democrat</td>\n      <td>7th or 8th grade</td>\n      <td>I met [Partner Name] in [Answer in Q15A6]</td>\n      <td>0.0</td>\n      <td>NaN</td>\n      <td>Once (this is my first marriage)</td>\n      <td>NaN</td>\n      <td>NaN</td>\n      <td>I am sexually attracted only to women</td>\n      <td>Yes</td>\n      <td>NaN</td>\n      <td>2006</td>\n      <td>January</td>\n      <td>2006</td>\n      <td>June</td>\n      <td>2006</td>\n      <td>July</td>\n      <td>2008</td>\n      <td>May</td>\n      <td>heterosexual or straight</td>\n      <td>NaN</td>\n      <td>NaN</td>\n      <td>I earned more</td>\n      <td>NaN</td>\n      <td>Different High School</td>\n      <td>Did not attend same college or university</td>\n      <td>No</td>\n      <td>No</td>\n      <td>No</td>\n      <td>No</td>\n      <td>No</td>\n      <td>Yes</td>\n      <td>No</td>\n      <td>Yes, an Internet dating or matchmaking site (l...</td>\n      <td>Good</td>\n      <td>Refused</td>\n      <td>2 to 3 times a month</td>\n      <td>No, I have not met anyone for dating, romance,...</td>\n      <td>NaN</td>\n      <td>NaN</td>\n      <td>NaN</td>\n      <td>NaN</td>\n      <td>NaN</td>\n      <td>NaN</td>\n      <td>NaN</td>\n      <td>NaN</td>\n      <td>NaN</td>\n      <td>NaN</td>\n      <td>NaN</td>\n      <td>NaN</td>\n      <td>NaN</td>\n      <td>NaN</td>\n      <td>NaN</td>\n      <td>NaN</td>\n      <td>NaN</td>\n      <td>NaN</td>\n      <td>NaN</td>\n      <td>NaN</td>\n      <td>NaN</td>\n      <td>NaN</td>\n      <td>NaN</td>\n      <td>NaN</td>\n      <td>NaN</td>\n      <td>NaN</td>\n      <td>NaN</td>\n      <td>NaN</td>\n      <td>NaN</td>\n      <td>NaN</td>\n      <td>NaN</td>\n      <td>NaN</td>\n      <td>NaN</td>\n      <td>NaN</td>\n      <td>NaN</td>\n      <td>NaN</td>\n      <td>NaN</td>\n      <td>NaN</td>\n      <td>NaN</td>\n      <td>NaN</td>\n      <td>NaN</td>\n      <td>NaN</td>\n      <td>NaN</td>\n      <td>NaN</td>\n      <td>NaN</td>\n      <td>NaN</td>\n      <td>NaN</td>\n      <td>NaN</td>\n      <td>NaN</td>\n      <td>NaN</td>\n      <td>NaN</td>\n      <td>NaN</td>\n      <td>NaN</td>\n      <td>NaN</td>\n      <td>Leans Democrat</td>\n      <td>Yes</td>\n      <td>Yes</td>\n      <td>Every day</td>\n      <td>Yes</td>\n      <td>Once or twice a month</td>\n      <td>47</td>\n      <td>45-54</td>\n      <td>45-59</td>\n      <td>Masters degree</td>\n      <td>Bachelor's degree or higher</td>\n      <td>White, Non-Hispanic</td>\n      <td>Male</td>\n      <td>Yes</td>\n      <td>5</td>\n      <td>A one-family house detached from any other house</td>\n      <td>$200,000 to $249,999</td>\n      <td>Married</td>\n      <td>Metro</td>\n      <td>South</td>\n      <td>South Atlantic</td>\n      <td>Owned or being bought by you or someone in you...</td>\n      <td>0</td>\n      <td>1</td>\n      <td>2</td>\n      <td>0</td>\n      <td>2</td>\n      <td>Working - as a paid employee</td>\n      <td>Yes</td>\n      <td>No</td>\n      <td>No</td>\n      <td>No</td>\n      <td>No</td>\n      <td>No</td>\n      <td>1</td>\n      <td>0</td>\n      <td>0</td>\n      <td>0</td>\n      <td>0</td>\n      <td>0</td>\n      <td>0</td>\n      <td>0</td>\n      <td>0</td>\n      <td>0</td>\n      <td>0</td>\n      <td>0</td>\n      <td>0</td>\n      <td>0</td>\n      <td>0</td>\n      <td>took the survey</td>\n      <td>straight/ non LGB</td>\n      <td>NOT same-sex souple</td>\n      <td>hetero couple</td>\n      <td>[Partner Name] is Female</td>\n      <td>NaN</td>\n      <td>No (Not Latino or Hispanic)</td>\n      <td>White</td>\n      <td>45.0</td>\n      <td>Associate degree</td>\n      <td>9th grade</td>\n      <td>Leans Democrat</td>\n      <td>7th or 8th grade</td>\n      <td>Another country, please specify</td>\n      <td>Another country, please specify</td>\n      <td>I met [Partner Name] in [Answer in Q15A6]</td>\n      <td>0.0</td>\n      <td>1.0</td>\n      <td>sexually attracted only to opposite gender</td>\n      <td>Yes</td>\n      <td>NaN</td>\n      <td>2006.0</td>\n      <td>January</td>\n      <td>no</td>\n      <td>2006.0</td>\n      <td>June</td>\n      <td>0.0</td>\n      <td>2006.0</td>\n      <td>July</td>\n      <td>NaN</td>\n      <td>2008.0</td>\n      <td>May</td>\n      <td>NaN</td>\n      <td>NaN</td>\n      <td>NaN</td>\n      <td>NaN</td>\n      <td>heterosexual or straight</td>\n      <td>NaN</td>\n      <td>NaN</td>\n      <td>I earned more</td>\n      <td>87.0</td>\n      <td>Different High School</td>\n      <td>2.0</td>\n      <td>No</td>\n      <td>No</td>\n      <td>no</td>\n      <td>no</td>\n      <td>no</td>\n      <td>yes</td>\n      <td>Yes, an Internet dating or matchmaking site (l...</td>\n      <td>Good</td>\n      <td>No, I have not met anyone for dating, romance,...</td>\n      <td>NaN</td>\n      <td>NaN</td>\n      <td>NaN</td>\n      <td>0.0</td>\n      <td>no</td>\n      <td>yes</td>\n      <td>11.083333</td>\n      <td>NaN</td>\n      <td>0.793209</td>\n      <td>married</td>\n      <td>0</td>\n      <td>2006.041626</td>\n      <td>2006.458374</td>\n      <td>36.0</td>\n      <td>0.416748</td>\n      <td>2006.541626</td>\n      <td>0.083252</td>\n      <td>no</td>\n      <td>no</td>\n      <td>no</td>\n      <td>no</td>\n      <td>no</td>\n      <td>no</td>\n      <td>no</td>\n      <td>no</td>\n      <td>no</td>\n      <td>no</td>\n      <td>no</td>\n      <td>no</td>\n      <td>no</td>\n      <td>no</td>\n      <td>no</td>\n      <td>no</td>\n      <td>no</td>\n      <td>no</td>\n      <td>no</td>\n      <td>no</td>\n      <td>no</td>\n      <td>yes</td>\n      <td>no</td>\n      <td>yes</td>\n      <td>no</td>\n      <td>no</td>\n      <td>no</td>\n      <td>no</td>\n      <td>no</td>\n      <td>no</td>\n      <td>no</td>\n      <td>no</td>\n      <td>no</td>\n      <td>no</td>\n      <td>no</td>\n      <td>yes</td>\n      <td>87.0</td>\n      <td>2.0</td>\n      <td>good</td>\n      <td>no</td>\n      <td>no</td>\n      <td>no</td>\n      <td>no</td>\n      <td>White</td>\n      <td>no</td>\n      <td>9.0</td>\n      <td>7.5</td>\n      <td>14.0</td>\n      <td>17.0</td>\n    </tr>\n    <tr>\n      <th>3</th>\n      <td>6</td>\n      <td>2648857</td>\n      <td>Qualified</td>\n      <td>1.2597</td>\n      <td>98682.0</td>\n      <td>1.3507</td>\n      <td>1.2524</td>\n      <td>98110.0</td>\n      <td>0.418556</td>\n      <td>29052.0</td>\n      <td>5</td>\n      <td>Completed survey in over 2 minutes</td>\n      <td>Yes, I agree to participate</td>\n      <td>gen pop</td>\n      <td>No, I am not Married</td>\n      <td>No, I am single, with no boyfriend, no girlfri...</td>\n      <td>Yes</td>\n      <td>2</td>\n      <td>NaN</td>\n      <td>NaN</td>\n      <td>NaN</td>\n      <td>NaN</td>\n      <td>NaN</td>\n      <td>NaN</td>\n      <td>NaN</td>\n      <td>NaN</td>\n      <td>NaN</td>\n      <td>NaN</td>\n      <td>NaN</td>\n      <td>NaN</td>\n      <td>NaN</td>\n      <td>NaN</td>\n      <td>NaN</td>\n      <td>NaN</td>\n      <td>NaN</td>\n      <td>NaN</td>\n      <td>NaN</td>\n      <td>NaN</td>\n      <td>NaN</td>\n      <td>NaN</td>\n      <td>NaN</td>\n      <td>NaN</td>\n      <td>NaN</td>\n      <td>NaN</td>\n      <td>NaN</td>\n      <td>NaN</td>\n      <td>NaN</td>\n      <td>NaN</td>\n      <td>NaN</td>\n      <td>NaN</td>\n      <td>NaN</td>\n      <td>NaN</td>\n      <td>NaN</td>\n      <td>NaN</td>\n      <td>NaN</td>\n      <td>NaN</td>\n      <td>NaN</td>\n      <td>NaN</td>\n      <td>NaN</td>\n      <td>NaN</td>\n      <td>NaN</td>\n      <td>NaN</td>\n      <td>NaN</td>\n      <td>NaN</td>\n      <td>NaN</td>\n      <td>NaN</td>\n      <td>NaN</td>\n      <td>NaN</td>\n      <td>No</td>\n      <td>We broke up</td>\n      <td>[Partner Name] wanted to break up more</td>\n      <td>NaN</td>\n      <td>NaN</td>\n      <td>Yes, we were a same-sex couple</td>\n      <td>No (Not Latino or Hispanic)</td>\n      <td>1991.0</td>\n      <td>HS graduate or GED</td>\n      <td>Bachelors degree</td>\n      <td>Undecided/Independent/Other</td>\n      <td>HS graduate or GED</td>\n      <td>I met [Partner Name] somewhere else , Please s...</td>\n      <td>0.0</td>\n      <td>NaN</td>\n      <td>Never married</td>\n      <td>I am mostly sexually attracted to women, less ...</td>\n      <td>NaN</td>\n      <td>No</td>\n      <td>2012</td>\n      <td>March</td>\n      <td>2013</td>\n      <td>April</td>\n      <td>NaN</td>\n      <td>NaN</td>\n      <td>NaN</td>\n      <td>NaN</td>\n      <td>2013</td>\n      <td>June</td>\n      <td>Q21B_2</td>\n      <td>NaN</td>\n      <td>NaN</td>\n      <td>bisexual</td>\n      <td>All or most of them</td>\n      <td>17</td>\n      <td>I earned more</td>\n      <td>Different High School</td>\n      <td>NaN</td>\n      <td>No</td>\n      <td>No</td>\n      <td>No</td>\n      <td>No</td>\n      <td>No</td>\n      <td>Yes</td>\n      <td>No</td>\n      <td>Yes, a social networking site (like Facebook o...</td>\n      <td>No, I have not met anyone for dating, romance,...</td>\n      <td>NaN</td>\n      <td>NaN</td>\n      <td>NaN</td>\n      <td>Strong Democrat</td>\n      <td>Yes</td>\n      <td>Yes</td>\n      <td>Every day</td>\n      <td>No</td>\n      <td>Never</td>\n      <td>28</td>\n      <td>25-34</td>\n      <td>18-29</td>\n      <td>12th grade NO DIPLOMA</td>\n      <td>Less than high school</td>\n      <td>White, Non-Hispanic</td>\n      <td>Female</td>\n      <td>No</td>\n      <td>3</td>\n      <td>A one-family house detached from any other house</td>\n      <td>$40,000 to $49,999</td>\n      <td>Never married</td>\n      <td>Metro</td>\n      <td>Midwest</td>\n      <td>West-North Central</td>\n      <td>Owned or being bought by you or someone in you...</td>\n      <td>0</td>\n      <td>0</td>\n      <td>0</td>\n      <td>0</td>\n      <td>3</td>\n      <td>Not working - other</td>\n      <td>Yes</td>\n      <td>No</td>\n      <td>No</td>\n      <td>No</td>\n      <td>No</td>\n      <td>No</td>\n      <td>1</td>\n      <td>0</td>\n      <td>0</td>\n      <td>0</td>\n      <td>0</td>\n      <td>0</td>\n      <td>0</td>\n      <td>0</td>\n      <td>0</td>\n      <td>0</td>\n      <td>0</td>\n      <td>0</td>\n      <td>0</td>\n      <td>0</td>\n      <td>0</td>\n      <td>took the survey</td>\n      <td>LGB</td>\n      <td>same_sex_couple</td>\n      <td>lesbian couple</td>\n      <td>[Partner Name] is Female</td>\n      <td>Yes, we are a same-sex couple</td>\n      <td>No (Not Latino or Hispanic)</td>\n      <td>White</td>\n      <td>26.0</td>\n      <td>HS graduate or GED</td>\n      <td>Bachelors degree</td>\n      <td>Undecided/Independent/Other</td>\n      <td>HS graduate or GED</td>\n      <td>United States</td>\n      <td>United States</td>\n      <td>I met [Partner Name] somewhere else, Please sp...</td>\n      <td>0.0</td>\n      <td>0.0</td>\n      <td>sexually attracted mostly to same gender, some...</td>\n      <td>NaN</td>\n      <td>No</td>\n      <td>2012.0</td>\n      <td>March</td>\n      <td>no</td>\n      <td>2013.0</td>\n      <td>April</td>\n      <td>0.0</td>\n      <td>NaN</td>\n      <td>NaN</td>\n      <td>NaN</td>\n      <td>NaN</td>\n      <td>NaN</td>\n      <td>2013.0</td>\n      <td>June</td>\n      <td>NaN</td>\n      <td>NaN</td>\n      <td>bisexual</td>\n      <td>All or most of them</td>\n      <td>17.0</td>\n      <td>I earned more</td>\n      <td>80.0</td>\n      <td>Different High School</td>\n      <td>NaN</td>\n      <td>No</td>\n      <td>No</td>\n      <td>no</td>\n      <td>no</td>\n      <td>no</td>\n      <td>yes</td>\n      <td>Yes, a social networking site (like Facebook o...</td>\n      <td>NaN</td>\n      <td>No, I have not met anyone for dating, romance,...</td>\n      <td>NaN</td>\n      <td>NaN</td>\n      <td>NaN</td>\n      <td>0.0</td>\n      <td>no</td>\n      <td>no</td>\n      <td>NaN</td>\n      <td>NaN</td>\n      <td>0.588978</td>\n      <td>unpartnered, has had past partner</td>\n      <td>1</td>\n      <td>2012.208374</td>\n      <td>2013.291626</td>\n      <td>23.0</td>\n      <td>1.083252</td>\n      <td>NaN</td>\n      <td>NaN</td>\n      <td>no</td>\n      <td>no</td>\n      <td>no</td>\n      <td>no</td>\n      <td>no</td>\n      <td>no</td>\n      <td>no</td>\n      <td>no</td>\n      <td>no</td>\n      <td>no</td>\n      <td>no</td>\n      <td>no</td>\n      <td>no</td>\n      <td>no</td>\n      <td>no</td>\n      <td>no</td>\n      <td>no</td>\n      <td>no</td>\n      <td>no</td>\n      <td>no</td>\n      <td>no</td>\n      <td>no</td>\n      <td>no</td>\n      <td>no</td>\n      <td>no</td>\n      <td>no</td>\n      <td>yes</td>\n      <td>no</td>\n      <td>no</td>\n      <td>no</td>\n      <td>no</td>\n      <td>no</td>\n      <td>no</td>\n      <td>no</td>\n      <td>no</td>\n      <td>yes</td>\n      <td>80.0</td>\n      <td>1.0</td>\n      <td>NaN</td>\n      <td>no</td>\n      <td>no</td>\n      <td>no</td>\n      <td>no</td>\n      <td>White</td>\n      <td>no</td>\n      <td>16.0</td>\n      <td>12.0</td>\n      <td>12.0</td>\n      <td>12.0</td>\n    </tr>\n    <tr>\n      <th>4</th>\n      <td>7</td>\n      <td>2623465</td>\n      <td>Qualified</td>\n      <td>0.8686</td>\n      <td>68044.0</td>\n      <td>NaN</td>\n      <td>0.8636</td>\n      <td>67652.0</td>\n      <td>0.976522</td>\n      <td>67781.0</td>\n      <td>13</td>\n      <td>Completed survey in over 2 minutes</td>\n      <td>Yes, I agree to participate</td>\n      <td>gen pop</td>\n      <td>Yes, I am Married</td>\n      <td>NaN</td>\n      <td>NaN</td>\n      <td>1</td>\n      <td>NaN</td>\n      <td>[Partner Name] is Male</td>\n      <td>NaN</td>\n      <td>No (Not Latino or Hispanic)</td>\n      <td>White</td>\n      <td>59.0</td>\n      <td>Bachelors degree</td>\n      <td>Associate degree</td>\n      <td>Strong Democrat</td>\n      <td>Masters degree</td>\n      <td>I met [Partner Name] in [Answer in Q15A6]</td>\n      <td>0.0</td>\n      <td>NaN</td>\n      <td>Once (this is my first marriage)</td>\n      <td>NaN</td>\n      <td>I am mostly sexually attracted to men, less of...</td>\n      <td>NaN</td>\n      <td>Yes</td>\n      <td>NaN</td>\n      <td>1983</td>\n      <td>September</td>\n      <td>1983</td>\n      <td>October</td>\n      <td>1984</td>\n      <td>August</td>\n      <td>1984</td>\n      <td>August</td>\n      <td>heterosexual or straight</td>\n      <td>NaN</td>\n      <td>NaN</td>\n      <td>[Partner Name] earned more</td>\n      <td>NaN</td>\n      <td>Different High School</td>\n      <td>Did not attend same college or university</td>\n      <td>No</td>\n      <td>No</td>\n      <td>No</td>\n      <td>No</td>\n      <td>No</td>\n      <td>Yes</td>\n      <td>No</td>\n      <td>No, I did NOT meet [Partner Name] through the ...</td>\n      <td>Excellent</td>\n      <td>NaN</td>\n      <td>3 to 6 times a week</td>\n      <td>No, I have not met anyone for dating, romance,...</td>\n      <td>NaN</td>\n      <td>NaN</td>\n      <td>NaN</td>\n      <td>NaN</td>\n      <td>NaN</td>\n      <td>NaN</td>\n      <td>NaN</td>\n      <td>NaN</td>\n      <td>NaN</td>\n      <td>NaN</td>\n      <td>NaN</td>\n      <td>NaN</td>\n      <td>NaN</td>\n      <td>NaN</td>\n      <td>NaN</td>\n      <td>NaN</td>\n      <td>NaN</td>\n      <td>NaN</td>\n      <td>NaN</td>\n      <td>NaN</td>\n      <td>NaN</td>\n      <td>NaN</td>\n      <td>NaN</td>\n      <td>NaN</td>\n      <td>NaN</td>\n      <td>NaN</td>\n      <td>NaN</td>\n      <td>NaN</td>\n      <td>NaN</td>\n      <td>NaN</td>\n      <td>NaN</td>\n      <td>NaN</td>\n      <td>NaN</td>\n      <td>NaN</td>\n      <td>NaN</td>\n      <td>NaN</td>\n      <td>NaN</td>\n      <td>NaN</td>\n      <td>NaN</td>\n      <td>NaN</td>\n      <td>NaN</td>\n      <td>NaN</td>\n      <td>NaN</td>\n      <td>NaN</td>\n      <td>NaN</td>\n      <td>NaN</td>\n      <td>NaN</td>\n      <td>NaN</td>\n      <td>NaN</td>\n      <td>NaN</td>\n      <td>NaN</td>\n      <td>NaN</td>\n      <td>NaN</td>\n      <td>NaN</td>\n      <td>Strong Democrat</td>\n      <td>Yes</td>\n      <td>Yes</td>\n      <td>Every day</td>\n      <td>No</td>\n      <td>Once a year or less</td>\n      <td>59</td>\n      <td>55-64</td>\n      <td>45-59</td>\n      <td>Bachelors degree</td>\n      <td>Bachelor's degree or higher</td>\n      <td>White, Non-Hispanic</td>\n      <td>Female</td>\n      <td>Yes</td>\n      <td>4</td>\n      <td>A one-family house detached from any other house</td>\n      <td>$175,000 to $199,999</td>\n      <td>Married</td>\n      <td>Metro</td>\n      <td>South</td>\n      <td>South Atlantic</td>\n      <td>Owned or being bought by you or someone in you...</td>\n      <td>0</td>\n      <td>0</td>\n      <td>0</td>\n      <td>0</td>\n      <td>4</td>\n      <td>Working - as a paid employee</td>\n      <td>Yes</td>\n      <td>No</td>\n      <td>No</td>\n      <td>No</td>\n      <td>No</td>\n      <td>No</td>\n      <td>1</td>\n      <td>0</td>\n      <td>0</td>\n      <td>0</td>\n      <td>0</td>\n      <td>0</td>\n      <td>0</td>\n      <td>0</td>\n      <td>0</td>\n      <td>0</td>\n      <td>0</td>\n      <td>0</td>\n      <td>0</td>\n      <td>0</td>\n      <td>0</td>\n      <td>took the survey</td>\n      <td>straight/ non LGB</td>\n      <td>NOT same-sex souple</td>\n      <td>hetero couple</td>\n      <td>[Partner Name] is Male</td>\n      <td>NaN</td>\n      <td>No (Not Latino or Hispanic)</td>\n      <td>White</td>\n      <td>59.0</td>\n      <td>Bachelors degree</td>\n      <td>Associate degree</td>\n      <td>Strong Democrat</td>\n      <td>Masters degree</td>\n      <td>United States</td>\n      <td>United States</td>\n      <td>I met [Partner Name] in [Answer in Q15A6]</td>\n      <td>0.0</td>\n      <td>1.0</td>\n      <td>sexually attracted mostly to opposite gender, ...</td>\n      <td>Yes</td>\n      <td>NaN</td>\n      <td>1983.0</td>\n      <td>September</td>\n      <td>no</td>\n      <td>1983.0</td>\n      <td>October</td>\n      <td>0.0</td>\n      <td>1984.0</td>\n      <td>August</td>\n      <td>NaN</td>\n      <td>1984.0</td>\n      <td>August</td>\n      <td>NaN</td>\n      <td>NaN</td>\n      <td>NaN</td>\n      <td>NaN</td>\n      <td>heterosexual or straight</td>\n      <td>NaN</td>\n      <td>NaN</td>\n      <td>[Partner Name] earned more</td>\n      <td>648.0</td>\n      <td>Different High School</td>\n      <td>2.0</td>\n      <td>No</td>\n      <td>No</td>\n      <td>no</td>\n      <td>no</td>\n      <td>no</td>\n      <td>yes</td>\n      <td>No, I did NOT meet [Partner Name] through the ...</td>\n      <td>Excellent</td>\n      <td>No, I have not met anyone for dating, romance,...</td>\n      <td>NaN</td>\n      <td>NaN</td>\n      <td>NaN</td>\n      <td>0.0</td>\n      <td>no</td>\n      <td>yes</td>\n      <td>33.750000</td>\n      <td>NaN</td>\n      <td>0.956191</td>\n      <td>married</td>\n      <td>1</td>\n      <td>1983.708374</td>\n      <td>1983.791626</td>\n      <td>25.0</td>\n      <td>0.083252</td>\n      <td>1984.625000</td>\n      <td>0.833374</td>\n      <td>no</td>\n      <td>no</td>\n      <td>no</td>\n      <td>no</td>\n      <td>yes</td>\n      <td>no</td>\n      <td>no</td>\n      <td>no</td>\n      <td>no</td>\n      <td>yes</td>\n      <td>no</td>\n      <td>no</td>\n      <td>no</td>\n      <td>no</td>\n      <td>no</td>\n      <td>no</td>\n      <td>no</td>\n      <td>no</td>\n      <td>no</td>\n      <td>no</td>\n      <td>no</td>\n      <td>no</td>\n      <td>no</td>\n      <td>no</td>\n      <td>no</td>\n      <td>no</td>\n      <td>no</td>\n      <td>no</td>\n      <td>no</td>\n      <td>no</td>\n      <td>yes</td>\n      <td>no</td>\n      <td>no</td>\n      <td>no</td>\n      <td>no</td>\n      <td>no</td>\n      <td>818.0</td>\n      <td>3.0</td>\n      <td>excellent</td>\n      <td>no</td>\n      <td>no</td>\n      <td>yes</td>\n      <td>no</td>\n      <td>White</td>\n      <td>no</td>\n      <td>14.0</td>\n      <td>17.0</td>\n      <td>16.0</td>\n      <td>16.0</td>\n    </tr>\n  </tbody>\n</table>\n</div>"
     },
     "execution_count": 11,
     "metadata": {},
     "output_type": "execute_result"
    }
   ],
   "source": [
    "df = pd.read_stata('HCMST2017.dta')\n",
    "df.head()"
   ],
   "metadata": {
    "collapsed": false,
    "pycharm": {
     "name": "#%%\n"
    }
   }
  },
  {
   "cell_type": "markdown",
   "source": [
    "### Read Stada & Feature Selection"
   ],
   "metadata": {
    "collapsed": false,
    "pycharm": {
     "name": "#%% md\n"
    }
   }
  },
  {
   "cell_type": "code",
   "execution_count": 14,
   "outputs": [
    {
     "ename": "KeyboardInterrupt",
     "evalue": "",
     "output_type": "error",
     "traceback": [
      "\u001B[1;31m---------------------------------------------------------------------------\u001B[0m",
      "\u001B[1;31mKeyboardInterrupt\u001B[0m                         Traceback (most recent call last)",
      "Cell \u001B[1;32mIn [14], line 8\u001B[0m\n\u001B[0;32m      5\u001B[0m df_categorical_encoded \u001B[38;5;241m=\u001B[39m pd\u001B[38;5;241m.\u001B[39mDataFrame()\n\u001B[0;32m      7\u001B[0m \u001B[38;5;66;03m# Divide data into numeric or categorical responses\u001B[39;00m\n\u001B[1;32m----> 8\u001B[0m df_numeric \u001B[38;5;241m=\u001B[39m \u001B[43mdf\u001B[49m[[\u001B[38;5;124m'\u001B[39m\u001B[38;5;124mppage\u001B[39m\u001B[38;5;124m'\u001B[39m, \u001B[38;5;124m'\u001B[39m\u001B[38;5;124mppagecat\u001B[39m\u001B[38;5;124m'\u001B[39m, \u001B[38;5;124m'\u001B[39m\u001B[38;5;124mhhinc\u001B[39m\u001B[38;5;124m'\u001B[39m]]\u001B[38;5;241m.\u001B[39mrename\\\n\u001B[0;32m      9\u001B[0m     ({\u001B[38;5;124m'\u001B[39m\u001B[38;5;124mppage\u001B[39m\u001B[38;5;124m'\u001B[39m: \u001B[38;5;124m'\u001B[39m\u001B[38;5;124mage\u001B[39m\u001B[38;5;124m'\u001B[39m, \u001B[38;5;124m'\u001B[39m\u001B[38;5;124mppagecat\u001B[39m\u001B[38;5;124m'\u001B[39m: \u001B[38;5;124m'\u001B[39m\u001B[38;5;124mcat_age\u001B[39m\u001B[38;5;124m'\u001B[39m}, axis\u001B[38;5;241m=\u001B[39m\u001B[38;5;241m1\u001B[39m)\n\u001B[0;32m     11\u001B[0m df_categorical \u001B[38;5;241m=\u001B[39m df[[\u001B[38;5;124m'\u001B[39m\u001B[38;5;124mppgender\u001B[39m\u001B[38;5;124m'\u001B[39m, \u001B[38;5;124m'\u001B[39m\u001B[38;5;124mppeducat\u001B[39m\u001B[38;5;124m'\u001B[39m, \u001B[38;5;124m'\u001B[39m\u001B[38;5;124mppincimp\u001B[39m\u001B[38;5;124m'\u001B[39m,\n\u001B[0;32m     12\u001B[0m                                \u001B[38;5;124m'\u001B[39m\u001B[38;5;124mppwork\u001B[39m\u001B[38;5;124m'\u001B[39m, \u001B[38;5;124m'\u001B[39m\u001B[38;5;124mpppartyid3\u001B[39m\u001B[38;5;124m'\u001B[39m, \u001B[38;5;124m'\u001B[39m\u001B[38;5;124mppreg9\u001B[39m\u001B[38;5;124m'\u001B[39m,\n\u001B[0;32m     13\u001B[0m                                \u001B[38;5;124m'\u001B[39m\u001B[38;5;124mppmarit\u001B[39m\u001B[38;5;124m'\u001B[39m, \u001B[38;5;124m'\u001B[39m\u001B[38;5;124mq24_met_online\u001B[39m\u001B[38;5;124m'\u001B[39m,\n\u001B[1;32m   (...)\u001B[0m\n\u001B[0;32m     23\u001B[0m                      \u001B[38;5;124m'\u001B[39m\u001B[38;5;124mppmarit\u001B[39m\u001B[38;5;124m'\u001B[39m: \u001B[38;5;124m'\u001B[39m\u001B[38;5;124mmarital_status\u001B[39m\u001B[38;5;124m'\u001B[39m,\n\u001B[0;32m     24\u001B[0m                      \u001B[38;5;124m'\u001B[39m\u001B[38;5;124mq24_met_online\u001B[39m\u001B[38;5;124m'\u001B[39m: \u001B[38;5;124m'\u001B[39m\u001B[38;5;124mmet_online\u001B[39m\u001B[38;5;124m'\u001B[39m})\n",
      "Cell \u001B[1;32mIn [14], line 8\u001B[0m\n\u001B[0;32m      5\u001B[0m df_categorical_encoded \u001B[38;5;241m=\u001B[39m pd\u001B[38;5;241m.\u001B[39mDataFrame()\n\u001B[0;32m      7\u001B[0m \u001B[38;5;66;03m# Divide data into numeric or categorical responses\u001B[39;00m\n\u001B[1;32m----> 8\u001B[0m df_numeric \u001B[38;5;241m=\u001B[39m \u001B[43mdf\u001B[49m[[\u001B[38;5;124m'\u001B[39m\u001B[38;5;124mppage\u001B[39m\u001B[38;5;124m'\u001B[39m, \u001B[38;5;124m'\u001B[39m\u001B[38;5;124mppagecat\u001B[39m\u001B[38;5;124m'\u001B[39m, \u001B[38;5;124m'\u001B[39m\u001B[38;5;124mhhinc\u001B[39m\u001B[38;5;124m'\u001B[39m]]\u001B[38;5;241m.\u001B[39mrename\\\n\u001B[0;32m      9\u001B[0m     ({\u001B[38;5;124m'\u001B[39m\u001B[38;5;124mppage\u001B[39m\u001B[38;5;124m'\u001B[39m: \u001B[38;5;124m'\u001B[39m\u001B[38;5;124mage\u001B[39m\u001B[38;5;124m'\u001B[39m, \u001B[38;5;124m'\u001B[39m\u001B[38;5;124mppagecat\u001B[39m\u001B[38;5;124m'\u001B[39m: \u001B[38;5;124m'\u001B[39m\u001B[38;5;124mcat_age\u001B[39m\u001B[38;5;124m'\u001B[39m}, axis\u001B[38;5;241m=\u001B[39m\u001B[38;5;241m1\u001B[39m)\n\u001B[0;32m     11\u001B[0m df_categorical \u001B[38;5;241m=\u001B[39m df[[\u001B[38;5;124m'\u001B[39m\u001B[38;5;124mppgender\u001B[39m\u001B[38;5;124m'\u001B[39m, \u001B[38;5;124m'\u001B[39m\u001B[38;5;124mppeducat\u001B[39m\u001B[38;5;124m'\u001B[39m, \u001B[38;5;124m'\u001B[39m\u001B[38;5;124mppincimp\u001B[39m\u001B[38;5;124m'\u001B[39m,\n\u001B[0;32m     12\u001B[0m                                \u001B[38;5;124m'\u001B[39m\u001B[38;5;124mppwork\u001B[39m\u001B[38;5;124m'\u001B[39m, \u001B[38;5;124m'\u001B[39m\u001B[38;5;124mpppartyid3\u001B[39m\u001B[38;5;124m'\u001B[39m, \u001B[38;5;124m'\u001B[39m\u001B[38;5;124mppreg9\u001B[39m\u001B[38;5;124m'\u001B[39m,\n\u001B[0;32m     13\u001B[0m                                \u001B[38;5;124m'\u001B[39m\u001B[38;5;124mppmarit\u001B[39m\u001B[38;5;124m'\u001B[39m, \u001B[38;5;124m'\u001B[39m\u001B[38;5;124mq24_met_online\u001B[39m\u001B[38;5;124m'\u001B[39m,\n\u001B[1;32m   (...)\u001B[0m\n\u001B[0;32m     23\u001B[0m                      \u001B[38;5;124m'\u001B[39m\u001B[38;5;124mppmarit\u001B[39m\u001B[38;5;124m'\u001B[39m: \u001B[38;5;124m'\u001B[39m\u001B[38;5;124mmarital_status\u001B[39m\u001B[38;5;124m'\u001B[39m,\n\u001B[0;32m     24\u001B[0m                      \u001B[38;5;124m'\u001B[39m\u001B[38;5;124mq24_met_online\u001B[39m\u001B[38;5;124m'\u001B[39m: \u001B[38;5;124m'\u001B[39m\u001B[38;5;124mmet_online\u001B[39m\u001B[38;5;124m'\u001B[39m})\n",
      "File \u001B[1;32m_pydevd_bundle\\pydevd_cython_win32_310_64.pyx:1179\u001B[0m, in \u001B[0;36m_pydevd_bundle.pydevd_cython_win32_310_64.SafeCallWrapper.__call__\u001B[1;34m()\u001B[0m\n",
      "File \u001B[1;32m_pydevd_bundle\\pydevd_cython_win32_310_64.pyx:620\u001B[0m, in \u001B[0;36m_pydevd_bundle.pydevd_cython_win32_310_64.PyDBFrame.trace_dispatch\u001B[1;34m()\u001B[0m\n",
      "File \u001B[1;32m_pydevd_bundle\\pydevd_cython_win32_310_64.pyx:929\u001B[0m, in \u001B[0;36m_pydevd_bundle.pydevd_cython_win32_310_64.PyDBFrame.trace_dispatch\u001B[1;34m()\u001B[0m\n",
      "File \u001B[1;32m_pydevd_bundle\\pydevd_cython_win32_310_64.pyx:920\u001B[0m, in \u001B[0;36m_pydevd_bundle.pydevd_cython_win32_310_64.PyDBFrame.trace_dispatch\u001B[1;34m()\u001B[0m\n",
      "File \u001B[1;32m_pydevd_bundle\\pydevd_cython_win32_310_64.pyx:317\u001B[0m, in \u001B[0;36m_pydevd_bundle.pydevd_cython_win32_310_64.PyDBFrame.do_wait_suspend\u001B[1;34m()\u001B[0m\n",
      "File \u001B[1;32mH:\\PyCharm 2022.1\\plugins\\python\\helpers\\pydev\\pydevd.py:1155\u001B[0m, in \u001B[0;36mPyDB.do_wait_suspend\u001B[1;34m(self, thread, frame, event, arg, send_suspend_message, is_unhandled_exception)\u001B[0m\n\u001B[0;32m   1152\u001B[0m         from_this_thread\u001B[38;5;241m.\u001B[39mappend(frame_id)\n\u001B[0;32m   1154\u001B[0m \u001B[38;5;28;01mwith\u001B[39;00m \u001B[38;5;28mself\u001B[39m\u001B[38;5;241m.\u001B[39m_threads_suspended_single_notification\u001B[38;5;241m.\u001B[39mnotify_thread_suspended(thread_id, stop_reason):\n\u001B[1;32m-> 1155\u001B[0m     \u001B[38;5;28;43mself\u001B[39;49m\u001B[38;5;241;43m.\u001B[39;49m\u001B[43m_do_wait_suspend\u001B[49m\u001B[43m(\u001B[49m\u001B[43mthread\u001B[49m\u001B[43m,\u001B[49m\u001B[43m \u001B[49m\u001B[43mframe\u001B[49m\u001B[43m,\u001B[49m\u001B[43m \u001B[49m\u001B[43mevent\u001B[49m\u001B[43m,\u001B[49m\u001B[43m \u001B[49m\u001B[43marg\u001B[49m\u001B[43m,\u001B[49m\u001B[43m \u001B[49m\u001B[43msuspend_type\u001B[49m\u001B[43m,\u001B[49m\u001B[43m \u001B[49m\u001B[43mfrom_this_thread\u001B[49m\u001B[43m)\u001B[49m\n",
      "File \u001B[1;32mH:\\PyCharm 2022.1\\plugins\\python\\helpers\\pydev\\pydevd.py:1170\u001B[0m, in \u001B[0;36mPyDB._do_wait_suspend\u001B[1;34m(self, thread, frame, event, arg, suspend_type, from_this_thread)\u001B[0m\n\u001B[0;32m   1167\u001B[0m             \u001B[38;5;28mself\u001B[39m\u001B[38;5;241m.\u001B[39m_call_mpl_hook()\n\u001B[0;32m   1169\u001B[0m         \u001B[38;5;28mself\u001B[39m\u001B[38;5;241m.\u001B[39mprocess_internal_commands()\n\u001B[1;32m-> 1170\u001B[0m         \u001B[43mtime\u001B[49m\u001B[38;5;241;43m.\u001B[39;49m\u001B[43msleep\u001B[49m\u001B[43m(\u001B[49m\u001B[38;5;241;43m0.01\u001B[39;49m\u001B[43m)\u001B[49m\n\u001B[0;32m   1172\u001B[0m \u001B[38;5;28mself\u001B[39m\u001B[38;5;241m.\u001B[39mcancel_async_evaluation(get_current_thread_id(thread), \u001B[38;5;28mstr\u001B[39m(\u001B[38;5;28mid\u001B[39m(frame)))\n\u001B[0;32m   1174\u001B[0m \u001B[38;5;66;03m# process any stepping instructions\u001B[39;00m\n",
      "\u001B[1;31mKeyboardInterrupt\u001B[0m: "
     ]
    }
   ],
   "source": [
    "df = pd.read_stata('HCMST2017.dta')\n",
    "df_numeric = pd.DataFrame()\n",
    "df_numeric_encoded = pd.DataFrame()\n",
    "df_categorical = pd.DataFrame()\n",
    "df_categorical_encoded = pd.DataFrame()\n",
    "\n",
    "# Divide data into numeric or categorical responses\n",
    "df_numeric = df[['ppage', 'ppagecat', 'hhinc']].rename\\\n",
    "    ({'ppage': 'age', 'ppagecat': 'cat_age'}, axis=1)\n",
    "\n",
    "df_categorical = df[['ppgender', 'ppeducat', 'ppincimp',\n",
    "                               'ppwork', 'pppartyid3', 'ppreg9',\n",
    "                               'ppmarit', 'q24_met_online',\n",
    "                               'papreligion', 'relationship_quality']].rename(\n",
    "            columns={'ppgender': 'gender',\n",
    "                     'ppeducat': 'educ',\n",
    "                     'ppincimp': \"incomecat\",\n",
    "                     'ppwork': 'job_status',\n",
    "                     'pppartyid3': 'political_aff',\n",
    "                     'ppreg9': 'region',\n",
    "                     'papreligion': 'religion',\n",
    "                     'w6_otherdate_app_2': 'app_used',\n",
    "                     'ppmarit': 'marital_status',\n",
    "                     'q24_met_online': 'met_online'})"
   ],
   "metadata": {
    "collapsed": false,
    "pycharm": {
     "name": "#%%\n"
    }
   }
  },
  {
   "cell_type": "markdown",
   "source": [
    "### Introduction to Dataset"
   ],
   "metadata": {
    "collapsed": false,
    "pycharm": {
     "name": "#%% md\n"
    }
   }
  },
  {
   "cell_type": "code",
   "execution_count": 6,
   "outputs": [
    {
     "ename": "NameError",
     "evalue": "name 'self' is not defined",
     "output_type": "error",
     "traceback": [
      "\u001B[1;31m---------------------------------------------------------------------------\u001B[0m",
      "\u001B[1;31mNameError\u001B[0m                                 Traceback (most recent call last)",
      "Cell \u001B[1;32mIn [6], line 1\u001B[0m\n\u001B[1;32m----> 1\u001B[0m \u001B[38;5;28mself\u001B[39m\u001B[38;5;241m.\u001B[39mdf_numeric[\u001B[38;5;124m'\u001B[39m\u001B[38;5;124mhhinc\u001B[39m\u001B[38;5;124m'\u001B[39m] \u001B[38;5;241m=\u001B[39m \u001B[38;5;28;43mself\u001B[39;49m\u001B[38;5;241m.\u001B[39mdf_numeric[\u001B[38;5;124m'\u001B[39m\u001B[38;5;124mhhinc\u001B[39m\u001B[38;5;124m'\u001B[39m]\u001B[38;5;241m.\u001B[39mastype(\u001B[38;5;28mint\u001B[39m)\n\u001B[0;32m      2\u001B[0m \u001B[38;5;66;03m# print(self.df_categorical_encoded.head())\u001B[39;00m\n\u001B[0;32m      3\u001B[0m \u001B[38;5;66;03m# print(self.df_numeric_encoded.head())\u001B[39;00m\n\u001B[0;32m      4\u001B[0m \u001B[38;5;28mself\u001B[39m\u001B[38;5;241m.\u001B[39mdf_numeric_encoded \u001B[38;5;241m=\u001B[39m pd\u001B[38;5;241m.\u001B[39mget_dummies(\u001B[38;5;28mself\u001B[39m\u001B[38;5;241m.\u001B[39mdf_numeric)\n",
      "\u001B[1;31mNameError\u001B[0m: name 'self' is not defined"
     ]
    }
   ],
   "source": [
    "df_numeric['hhinc'] = df_numeric['hhinc'].astype(int)\n",
    "print(df_categorical_encoded.head())\n",
    "print(df_numeric_encoded.head())\n",
    "df_numeric_encoded = pd.get_dummies(df_numeric)\n",
    "df_categorical_encoded = pd.get_dummies(df_categorical)"
   ],
   "metadata": {
    "collapsed": false,
    "pycharm": {
     "name": "#%%\n"
    }
   }
  },
  {
   "cell_type": "markdown",
   "source": [
    "# DataTypes"
   ],
   "metadata": {
    "collapsed": false,
    "pycharm": {
     "name": "#%% md\n"
    }
   }
  },
  {
   "cell_type": "code",
   "execution_count": null,
   "outputs": [],
   "source": [
    "print(df_numeric.dtypes)\n",
    "print(df_categorical.dtypes)"
   ],
   "metadata": {
    "collapsed": false,
    "pycharm": {
     "name": "#%%\n"
    }
   }
  },
  {
   "cell_type": "markdown",
   "source": [
    "### Null Check"
   ],
   "metadata": {
    "collapsed": false,
    "pycharm": {
     "name": "#%% md\n"
    }
   }
  },
  {
   "cell_type": "code",
   "execution_count": null,
   "outputs": [],
   "source": [
    "print(df_categorical.isnull().sum())\n",
    "print(df_numeric.isnull().sum())"
   ],
   "metadata": {
    "collapsed": false,
    "pycharm": {
     "name": "#%%\n"
    }
   }
  },
  {
   "cell_type": "markdown",
   "source": [
    "### Describe dataset"
   ],
   "metadata": {
    "collapsed": false,
    "pycharm": {
     "name": "#%% md\n"
    }
   }
  },
  {
   "cell_type": "code",
   "execution_count": null,
   "outputs": [],
   "source": [
    "print(df_categorical_encoded.describe())\n",
    "print(df_numeric_encoded.describe())"
   ],
   "metadata": {
    "collapsed": false,
    "pycharm": {
     "name": "#%%\n"
    }
   }
  },
  {
   "cell_type": "code",
   "execution_count": null,
   "outputs": [],
   "source": [
    "# interesting question, what season or month did you meet your significant other?\n",
    "# TODO: viz of map/region, pull month met data, pairpolt, (ggqqplot) normalize plot for numeric values\n",
    "# income, pivot_tables, regplot, avg age vs income, missing data?"
   ],
   "metadata": {
    "collapsed": false,
    "pycharm": {
     "name": "#%%\n"
    }
   }
  },
  {
   "cell_type": "code",
   "execution_count": null,
   "outputs": [],
   "source": [
    "big_df = pd.concat([df_numeric, df_categorical], axis=1)\n",
    "t1 = big_df.pivot_table(values=[\"hhinc\"], index=[\"region\"], aggfunc=np.mean)\n",
    "t2 = big_df.pivot_table(values=[\"id\"], index=[\"marital_status\", \"met_online\"], aggfunc='count')\n",
    "t3 = big_df.pivot_table(values=[\"id\"], index=[\"political_aff\", \"cat_age\"], aggfunc='count')"
   ],
   "metadata": {
    "collapsed": false,
    "pycharm": {
     "name": "#%%\n"
    }
   }
  },
  {
   "cell_type": "code",
   "execution_count": null,
   "outputs": [],
   "source": [
    "# Visualize gender representative\n",
    "female_count = df_categorical['gender'].value_counts()['Female']\n",
    "male_count = df_categorical['gender'].value_counts()['Male']\n",
    "gender = pd.DataFrame({'gender': ['female', 'male'], 'count': [female_count, male_count]})\n",
    "sns.barplot(x='gender', y='count', data=gender, palette='hls')"
   ],
   "metadata": {
    "collapsed": false,
    "pycharm": {
     "name": "#%%\n"
    }
   }
  },
  {
   "cell_type": "code",
   "execution_count": null,
   "outputs": [],
   "source": [
    "# Visualize political representative\n",
    "democrat_count = df_categorical_encoded['political_aff_democrat'].value_counts()[1]\n",
    "republican_count = df_categorical_encoded['political_aff_republican'].value_counts()[1]\n",
    "other_count = df_categorical_encoded['political_aff_other'].value_counts()[1]\n",
    "party_aff = pd.DataFrame({'political_party': ['democrat', 'republican', 'other'],\n",
    "                          'count': [democrat_count, republican_count, other_count]})\n",
    "sns.barplot(x='political_party', y='count', data=party_aff, palette=\"hls\")\n",
    "plt.xlabel('Political Party Affiliation')\n",
    "plt.ylabel('Count')\n",
    "plt.title('Political Party Affiliation Representation')"
   ],
   "metadata": {
    "collapsed": false,
    "pycharm": {
     "name": "#%%\n"
    }
   }
  },
  {
   "cell_type": "code",
   "execution_count": null,
   "outputs": [],
   "source": [
    "age_col_df = df_numeric_encoded.iloc[2:, :10]\n",
    "age_col_df.drop(labels='id', axis=1, inplace=True)\n",
    "age_col_df.drop(labels='age', axis=1, inplace=True)\n",
    "age_col_df.drop(labels='hhinc', axis=1, inplace=True)\n",
    "count_df = pd.DataFrame({'count': age_col_df.sum()})\n",
    "count_df.rename(index={'cat_age_18-24': '18-24', 'cat_age_25-34': '25-34',\n",
    "                       'cat_age_35-44': '35-44', 'cat_age_45-54': '45-54',\n",
    "                       'cat_age_55-64': '55-64', 'cat_age_65-74': '65-74',\n",
    "                       'cat_age_75+': '75+'}, inplace=True)\n",
    "count_df.reset_index(inplace=True)\n",
    "count_df.rename(columns={'index': 'age'}, inplace=True)\n",
    "sns.barplot(x='age', y='count', data=count_df, palette='hls')"
   ],
   "metadata": {
    "collapsed": false,
    "pycharm": {
     "name": "#%%\n"
    }
   }
  },
  {
   "cell_type": "code",
   "execution_count": null,
   "outputs": [],
   "source": [
    "sns.relplot(x='age', y='hhinc', kind='line', data=df_numeric)\n",
    "# sns.pairplot(df_numeric, x_vars=['age'], y_vars=['hhinc'], palette='hls', hue='hhinc', height=5)"
   ],
   "metadata": {
    "collapsed": false,
    "pycharm": {
     "name": "#%%\n"
    }
   }
  },
  {
   "cell_type": "code",
   "execution_count": null,
   "outputs": [],
   "source": [
    "model = sm.OLS(df_categorical_encoded['met_online_met offline'], df_numeric['hhinc'])\n",
    "results = model.fit()\n",
    "print(results.params)\n",
    "print(results.summary())"
   ],
   "metadata": {
    "collapsed": false,
    "pycharm": {
     "name": "#%%\n"
    }
   }
  },
  {
   "cell_type": "code",
   "execution_count": null,
   "outputs": [],
   "source": [
    "np.random.seed(1)\n",
    "print(scipy.stats.shapiro(df_categorical_encoded['political_aff_democrat']))\n",
    "print(scipy.stats.shapiro(df_categorical_encoded['political_aff_republican']))\n",
    "print(scipy.stats.shapiro(df_categorical_encoded['political_aff_other'].sample(n=500)))"
   ],
   "metadata": {
    "collapsed": false,
    "pycharm": {
     "name": "#%%\n"
    }
   }
  },
  {
   "cell_type": "code",
   "execution_count": 3,
   "id": "3f348963",
   "metadata": {
    "pycharm": {
     "name": "#%%\n"
    }
   },
   "outputs": [],
   "source": [
    "sm.qqplot(data=df_categorical['political_aff'], line='45')"
   ]
  }
 ],
 "metadata": {
  "kernelspec": {
   "display_name": "Python 3",
   "language": "python",
   "name": "python3"
  },
  "language_info": {
   "codemirror_mode": {
    "name": "ipython",
    "version": 3
   },
   "file_extension": ".py",
   "mimetype": "text/x-python",
   "name": "python",
   "nbconvert_exporter": "python",
   "pygments_lexer": "ipython3",
   "version": "3.9.7"
  }
 },
 "nbformat": 4,
 "nbformat_minor": 5
}