{
 "cells": [
  {
   "cell_type": "markdown",
   "id": "1f4b83a5",
   "metadata": {
    "pycharm": {
     "name": "#%% md\n"
    }
   },
   "source": [
    "\n",
    "COMP 4447 Final Project \n",
    "Authors: Elizabeth Fugikawa & Heather Lemon \n",
    "10/05/2022\n",
    "\n",
    "How online dating and dating apps affects U.S. demograhics *can change later*\n",
    "\n",
    "\n",
    "\n"
   ]
  },
  {
   "cell_type": "markdown",
   "id": "9a034aaa",
   "metadata": {
    "pycharm": {
     "name": "#%% md\n"
    }
   },
   "source": [
    "**Love**. Love permeates many decisions we have in life. The motivation behind this analysis is to further understand the dynamics of love and dating using the data collected through [Standford's How Couples Meet and Stay Together (HCMST) 2017](https://data.stanford.edu/hcmst2017) [0].\n",
    "Some details of the data collected include; poltical affilation, mother's highest level of education, demographics, and if you met your sigificant other online or not. \n",
    "\n",
    "We will looking at exploratory data analysis, feature engineering, cleaning, and visualization. Including basic transformations and normalizations of data.  "
   ]
  },
  {
   "cell_type": "markdown",
   "id": "8a59cc54",
   "metadata": {
    "pycharm": {
     "name": "#%% md\n"
    }
   },
   "source": [
    "## Table of Contents\n",
    "> 1. [Exploratory Data Analysis](#Exploratory-Data-Analysis)\n",
    "    * 1.1 [Missing-Values](#Missing-Values) \n",
    "    * 1.2 [Basic Transformations](#Basic-Transformations)\n",
    "    * 1.3 [Visualizing the Data](#Visualization-of-Data)\n",
    "         * 1.2.1 [Seaborn PairPlot](#Seaborn-Pairplot)\n",
    "         * 1.2.2 [Correlation Table](#Correlation-Table)\n",
    "    * 1.4 [Exploratory Data Analysis Conclusion](#Exploratory-Data-Analysis-Conclusion)\n",
    "    "
   ]
  },
  {
   "cell_type": "markdown",
   "id": "0e040ec6",
   "metadata": {
    "pycharm": {
     "name": "#%% md\n"
    }
   },
   "source": [
    "# Importing Data"
   ]
  },
  {
   "cell_type": "code",
   "execution_count": 1,
   "id": "b42df53c",
   "metadata": {
    "pycharm": {
     "name": "#%%\n"
    },
    "scrolled": true
   },
   "outputs": [
    {
     "name": "stderr",
     "output_type": "stream",
     "text": [
      "--2022-10-22 20:29:03--  https://stacks.stanford.edu/file/druid:hg921sg6829/HCMST_2017_public_data_v1.1_stata.zip\n",
      "Resolving stacks.stanford.edu (stacks.stanford.edu)... 171.67.37.91\n",
      "Connecting to stacks.stanford.edu (stacks.stanford.edu)|171.67.37.91|:443... connected.\n",
      "HTTP request sent, awaiting response... 200 OK\n",
      "Length: 463647 (453K) [application/zip]\n",
      "Saving to: ‘HCMST_2017_public_data_v1.1_stata.zip’\n",
      "\n",
      "     0K .......... .......... .......... .......... .......... 11%  585K 1s\n",
      "    50K .......... .......... .......... .......... .......... 22%  626K 1s\n",
      "   100K .......... .......... .......... .......... .......... 33%  953K 0s\n",
      "   150K .......... .......... .......... .......... .......... 44% 1.02M 0s\n",
      "   200K .......... .......... .......... .......... .......... 55% 6.52M 0s\n",
      "   250K .......... .......... .......... .......... .......... 66% 1.09M 0s\n",
      "   300K .......... .......... .......... .......... .......... 77% 1.51M 0s\n",
      "   350K .......... .......... .......... .......... .......... 88% 2.90M 0s\n",
      "   400K .......... .......... .......... .......... .......... 99% 1.39M 0s\n",
      "   450K ..                                                    100% 53.0G=0.4s\n",
      "\n",
      "2022-10-22 20:29:04 (1.10 MB/s) - ‘HCMST_2017_public_data_v1.1_stata.zip’ saved [463647/463647]\n",
      "\n"
     ]
    },
    {
     "name": "stdout",
     "output_type": "stream",
     "text": [
      "Archive:  HCMST_2017_public_data_v1.1_stata.zip\n",
      "  inflating: HCMST 2017 fresh sample for public sharing draft v1.1.dta  \n"
     ]
    }
   ],
   "source": [
    "%%bash\n",
    "# pull data from Stanford\n",
    "wget 'https://stacks.stanford.edu/file/druid:hg921sg6829/HCMST_2017_public_data_v1.1_stata.zip'\n",
    "unzip HCMST_2017_public_data_v1.1_stata.zip\n",
    "# remove zipped file\n",
    "rm HCMST_2017_public_data_v1.1_stata.zip\n",
    "# rename file\n",
    "mv 'HCMST 2017 fresh sample for public sharing draft v1.1.dta' HCMST2017.dta\n"
   ]
  },
  {
   "cell_type": "markdown",
   "id": "14791ccd",
   "metadata": {
    "pycharm": {
     "name": "#%% md\n"
    }
   },
   "source": [
    "# Exploratory Data Analysis\n",
    "\n",
    "We begin by importing the proper libraries, files and taking a look at what we're dealing with;"
   ]
  },
  {
   "cell_type": "code",
   "execution_count": 2,
   "id": "21f15bcd",
   "metadata": {
    "pycharm": {
     "name": "#%%\n"
    }
   },
   "outputs": [
    {
     "data": {
      "text/html": [
       "<div>\n",
       "<style scoped>\n",
       "    .dataframe tbody tr th:only-of-type {\n",
       "        vertical-align: middle;\n",
       "    }\n",
       "\n",
       "    .dataframe tbody tr th {\n",
       "        vertical-align: top;\n",
       "    }\n",
       "\n",
       "    .dataframe thead th {\n",
       "        text-align: right;\n",
       "    }\n",
       "</style>\n",
       "<table border=\"1\" class=\"dataframe\">\n",
       "  <thead>\n",
       "    <tr style=\"text-align: right;\">\n",
       "      <th></th>\n",
       "      <th>CaseID</th>\n",
       "      <th>CASEID_NEW</th>\n",
       "      <th>qflag</th>\n",
       "      <th>weight1</th>\n",
       "      <th>weight1_freqwt</th>\n",
       "      <th>weight2</th>\n",
       "      <th>weight1a</th>\n",
       "      <th>weight1a_freqwt</th>\n",
       "      <th>weight_combo</th>\n",
       "      <th>weight_combo_freqwt</th>\n",
       "      <th>...</th>\n",
       "      <th>hcm2017q24_met_through_family</th>\n",
       "      <th>hcm2017q24_met_through_friend</th>\n",
       "      <th>hcm2017q24_met_through_as_nghbrs</th>\n",
       "      <th>hcm2017q24_met_as_through_cowork</th>\n",
       "      <th>w6_subject_race</th>\n",
       "      <th>interracial_5cat</th>\n",
       "      <th>partner_mother_yrsed</th>\n",
       "      <th>subject_mother_yrsed</th>\n",
       "      <th>partner_yrsed</th>\n",
       "      <th>subject_yrsed</th>\n",
       "    </tr>\n",
       "  </thead>\n",
       "  <tbody>\n",
       "    <tr>\n",
       "      <th>0</th>\n",
       "      <td>2</td>\n",
       "      <td>2014039</td>\n",
       "      <td>Qualified</td>\n",
       "      <td>NaN</td>\n",
       "      <td>NaN</td>\n",
       "      <td>0.8945</td>\n",
       "      <td>NaN</td>\n",
       "      <td>NaN</td>\n",
       "      <td>0.277188</td>\n",
       "      <td>19240.0</td>\n",
       "      <td>...</td>\n",
       "      <td>no</td>\n",
       "      <td>no</td>\n",
       "      <td>no</td>\n",
       "      <td>no</td>\n",
       "      <td>White</td>\n",
       "      <td>no</td>\n",
       "      <td>12.0</td>\n",
       "      <td>14.0</td>\n",
       "      <td>12.0</td>\n",
       "      <td>14.0</td>\n",
       "    </tr>\n",
       "    <tr>\n",
       "      <th>1</th>\n",
       "      <td>3</td>\n",
       "      <td>2019003</td>\n",
       "      <td>Qualified</td>\n",
       "      <td>0.9078</td>\n",
       "      <td>71115.0</td>\n",
       "      <td>NaN</td>\n",
       "      <td>0.9026</td>\n",
       "      <td>70707.0</td>\n",
       "      <td>1.020621</td>\n",
       "      <td>70841.0</td>\n",
       "      <td>...</td>\n",
       "      <td>no</td>\n",
       "      <td>no</td>\n",
       "      <td>no</td>\n",
       "      <td>yes</td>\n",
       "      <td>White</td>\n",
       "      <td>no</td>\n",
       "      <td>12.0</td>\n",
       "      <td>16.0</td>\n",
       "      <td>17.0</td>\n",
       "      <td>17.0</td>\n",
       "    </tr>\n",
       "    <tr>\n",
       "      <th>2</th>\n",
       "      <td>5</td>\n",
       "      <td>2145527</td>\n",
       "      <td>Qualified</td>\n",
       "      <td>0.7205</td>\n",
       "      <td>56442.0</td>\n",
       "      <td>NaN</td>\n",
       "      <td>0.7164</td>\n",
       "      <td>56121.0</td>\n",
       "      <td>0.810074</td>\n",
       "      <td>56227.0</td>\n",
       "      <td>...</td>\n",
       "      <td>no</td>\n",
       "      <td>no</td>\n",
       "      <td>no</td>\n",
       "      <td>no</td>\n",
       "      <td>White</td>\n",
       "      <td>no</td>\n",
       "      <td>9.0</td>\n",
       "      <td>7.5</td>\n",
       "      <td>14.0</td>\n",
       "      <td>17.0</td>\n",
       "    </tr>\n",
       "    <tr>\n",
       "      <th>3</th>\n",
       "      <td>6</td>\n",
       "      <td>2648857</td>\n",
       "      <td>Qualified</td>\n",
       "      <td>1.2597</td>\n",
       "      <td>98682.0</td>\n",
       "      <td>1.3507</td>\n",
       "      <td>1.2524</td>\n",
       "      <td>98110.0</td>\n",
       "      <td>0.418556</td>\n",
       "      <td>29052.0</td>\n",
       "      <td>...</td>\n",
       "      <td>no</td>\n",
       "      <td>no</td>\n",
       "      <td>no</td>\n",
       "      <td>no</td>\n",
       "      <td>White</td>\n",
       "      <td>no</td>\n",
       "      <td>16.0</td>\n",
       "      <td>12.0</td>\n",
       "      <td>12.0</td>\n",
       "      <td>12.0</td>\n",
       "    </tr>\n",
       "    <tr>\n",
       "      <th>4</th>\n",
       "      <td>7</td>\n",
       "      <td>2623465</td>\n",
       "      <td>Qualified</td>\n",
       "      <td>0.8686</td>\n",
       "      <td>68044.0</td>\n",
       "      <td>NaN</td>\n",
       "      <td>0.8636</td>\n",
       "      <td>67652.0</td>\n",
       "      <td>0.976522</td>\n",
       "      <td>67781.0</td>\n",
       "      <td>...</td>\n",
       "      <td>no</td>\n",
       "      <td>no</td>\n",
       "      <td>yes</td>\n",
       "      <td>no</td>\n",
       "      <td>White</td>\n",
       "      <td>no</td>\n",
       "      <td>14.0</td>\n",
       "      <td>17.0</td>\n",
       "      <td>16.0</td>\n",
       "      <td>16.0</td>\n",
       "    </tr>\n",
       "  </tbody>\n",
       "</table>\n",
       "<p>5 rows × 285 columns</p>\n",
       "</div>"
      ],
      "text/plain": [
       "   CaseID  CASEID_NEW      qflag  weight1  weight1_freqwt  weight2  weight1a  \\\n",
       "0       2     2014039  Qualified      NaN             NaN   0.8945       NaN   \n",
       "1       3     2019003  Qualified   0.9078         71115.0      NaN    0.9026   \n",
       "2       5     2145527  Qualified   0.7205         56442.0      NaN    0.7164   \n",
       "3       6     2648857  Qualified   1.2597         98682.0   1.3507    1.2524   \n",
       "4       7     2623465  Qualified   0.8686         68044.0      NaN    0.8636   \n",
       "\n",
       "   weight1a_freqwt  weight_combo  weight_combo_freqwt  ...  \\\n",
       "0              NaN      0.277188              19240.0  ...   \n",
       "1          70707.0      1.020621              70841.0  ...   \n",
       "2          56121.0      0.810074              56227.0  ...   \n",
       "3          98110.0      0.418556              29052.0  ...   \n",
       "4          67652.0      0.976522              67781.0  ...   \n",
       "\n",
       "   hcm2017q24_met_through_family hcm2017q24_met_through_friend  \\\n",
       "0                             no                            no   \n",
       "1                             no                            no   \n",
       "2                             no                            no   \n",
       "3                             no                            no   \n",
       "4                             no                            no   \n",
       "\n",
       "  hcm2017q24_met_through_as_nghbrs hcm2017q24_met_as_through_cowork  \\\n",
       "0                               no                               no   \n",
       "1                               no                              yes   \n",
       "2                               no                               no   \n",
       "3                               no                               no   \n",
       "4                              yes                               no   \n",
       "\n",
       "  w6_subject_race interracial_5cat partner_mother_yrsed subject_mother_yrsed  \\\n",
       "0           White               no                 12.0                 14.0   \n",
       "1           White               no                 12.0                 16.0   \n",
       "2           White               no                  9.0                  7.5   \n",
       "3           White               no                 16.0                 12.0   \n",
       "4           White               no                 14.0                 17.0   \n",
       "\n",
       "  partner_yrsed subject_yrsed  \n",
       "0          12.0          14.0  \n",
       "1          17.0          17.0  \n",
       "2          14.0          17.0  \n",
       "3          12.0          12.0  \n",
       "4          16.0          16.0  \n",
       "\n",
       "[5 rows x 285 columns]"
      ]
     },
     "execution_count": 2,
     "metadata": {},
     "output_type": "execute_result"
    }
   ],
   "source": [
    "import pandas as pd \n",
    "import matplotlib.pyplot as plt\n",
    "import logging\n",
    "import seaborn as sns\n",
    "\n",
    "# read sample \n",
    "df = pd.read_stata('HCMST2017.dta')\n",
    "#df.info(verbose=True)\n",
    "df.head()"
   ]
  },
  {
   "cell_type": "markdown",
   "id": "7cc869a5",
   "metadata": {
    "pycharm": {
     "name": "#%% md\n"
    }
   },
   "source": [
    "External Links: [0] https://data.stanford.edu/hcmst2017\n"
   ]
  },
  {
   "cell_type": "code",
   "execution_count": 12,
   "id": "1f7fdf59",
   "metadata": {
    "pycharm": {
     "name": "#%%\n"
    }
   },
   "outputs": [
    {
     "name": "stdout",
     "output_type": "stream",
     "text": [
      "id          int64\n",
      "age         int64\n",
      "cat_age    object\n",
      "hhinc       int32\n",
      "dtype: object\n"
     ]
    },
    {
     "data": {
      "image/png": "[encoded data removed]",
      "text/plain": [
       "<Figure size 433.75x360 with 1 Axes>"
      ]
     },
     "metadata": {
      "needs_background": "light"
     },
     "output_type": "display_data"
    }
   ],
   "source": [
    "\n",
    "import pandas as pd\n",
    "import logging\n",
    "import matplotlib.pyplot as plt\n",
    "import seaborn as sns\n",
    "import numpy as np\n",
    "import statsmodels.api as sm\n",
    "\n",
    "\n",
    "class Main:\n",
    "\n",
    "    def __init__(self):\n",
    "        self.df = pd.read_csv(\"HCMST.csv\", low_memory=False)\n",
    "        logging.info(\"loading csv as dataframe\")\n",
    "        self.df_numeric = pd.DataFrame()\n",
    "        self.df_numeric_encoded = pd.DataFrame()\n",
    "        self.df_categorical = pd.DataFrame()\n",
    "        self.df_categorical_encoded = pd.DataFrame()\n",
    "\n",
    "    def log_config(self) -> None:\n",
    "        \"\"\"\n",
    "        setup logging config\n",
    "        Return: None\n",
    "        \"\"\"\n",
    "        logger = logging.getLogger()\n",
    "        logger.setLevel(logging.ERROR)\n",
    "        #TODO remove in final ipynb submission\n",
    "        fh = logging.FileHandler(\"clean_data.log\", \"w\")\n",
    "        fh.setLevel(logging.INFO)\n",
    "        logger.addHandler(fh)\n",
    "\n",
    "        sh = logging.StreamHandler()\n",
    "        sh.setLevel(logging.INFO)\n",
    "        logger.addHandler(sh)\n",
    "\n",
    "    def clean_data(self):\n",
    "        logging.info(f\"loading dataframe\")\n",
    "        # select only columns of interest\n",
    "        self.df_numeric = self.df[['caseid_new', 'ppage', 'ppagecat', 'hhinc']].rename(\n",
    "            {'caseid_new': 'id', 'ppage': 'age', 'ppagecat':'cat_age', 'papreligion':'religion'}, axis=1)\n",
    "        self.df_categorical = self.df[['ppgender' , 'ppeducat', 'ppincimp', 'ppwork',\n",
    "                                       'pppartyid3', 'ppreg9', 'ppmarit', 'q24_met_online', 'papreligion',\n",
    "                                       'relationship_quality', 'w6_otherdate_app_2']].rename(\n",
    "            columns={'ppgender': 'gender', 'ppagecat': 'agecat', 'ppeducat': 'educ', 'ppincimp': \"incomecat\",\n",
    "                     'ppwork': 'job_status', 'pppartyid3': 'political_aff', 'ppreg9': 'region', 'papreligion':'religion', 'w6_otherdate_app_2': 'app_used',\n",
    "                     'ppmarit': 'marital_status', 'q24_met_online': 'met_online'})\n",
    "        self.df_numeric['hhinc'] = self.df_numeric['hhinc'].astype(int)\n",
    "        self.df_numeric_encoded = pd.get_dummies(self.df_numeric)\n",
    "        self.df_categorical_encoded = pd.get_dummies(self.df_categorical)\n",
    "        # print(self.df_categorical_encoded.head())\n",
    "        # print(self.df_numeric_encoded.head())\n",
    "        # print(self.df_categorical_encoded.describe())\n",
    "        # print(self.df_numeric_encoded.describe())\n",
    "        # cleaning null\n",
    "        # print(self.df_categorical.isnull().sum())\n",
    "        # print(self.df_numeric.isnull().sum())\n",
    "        print(self.df_numeric.dtypes)\n",
    "\n",
    "    def gender(self):\n",
    "        # Visualize gender representative\n",
    "        female_count = self.df_categorical_encoded['gender_female'].value_counts()[\n",
    "            self.df_categorical_encoded['gender_female'] == 1].values[0]\n",
    "        male_count = self.df_categorical_encoded['gender_female'].value_counts()[\n",
    "            self.df_categorical_encoded['gender_female'] == 1].values[1]\n",
    "        gender = pd.DataFrame({'gender': ['female', 'male'], 'count': [female_count, male_count]})\n",
    "        sns.barplot(x='gender', y='count', data=gender, palette='hls')\n",
    "        plt.show()\n",
    "\n",
    "    def political(self):\n",
    "        # Visualize political representative\n",
    "        democrat_count = self.df_categorical_encoded['political_aff_democrat'].value_counts()[1]\n",
    "        republican_count = self.df_categorical_encoded['political_aff_republican'].value_counts()[1]\n",
    "        other_count = self.df_categorical_encoded['political_aff_other'].value_counts()[1]\n",
    "        party_aff = pd.DataFrame({'political_party': ['democrat', 'republican', 'other'],\n",
    "                                  'count': [democrat_count, republican_count, other_count]})\n",
    "        sns.barplot(x='political_party', y='count', data=party_aff, palette=\"hls\")\n",
    "        plt.xlabel('Political Party Affiliation')\n",
    "        plt.ylabel('Count')\n",
    "        plt.title('Political Party Affiliation Representation')\n",
    "        plt.legend()\n",
    "        plt.show()\n",
    "\n",
    "    def pivot(self):\n",
    "        logging.info(\"creating pivot tables\")\n",
    "        full_df = pd.concat([self.df_numeric, self.df_categorical], axis=1)\n",
    "        t1 = full_df.pivot_table(values=[\"hhinc\"], index=[\"region\"], aggfunc=np.mean)\n",
    "        # print(t1)\n",
    "        t2 = full_df.pivot_table(values=[\"id\"], index=[\"marital_status\", \"met_online\"], aggfunc='count')\n",
    "        # print(t2)\n",
    "        t3 = full_df.pivot_table(values=[\"id\"], index=[\"political_aff\", \"age\"], aggfunc='count')\n",
    "        print(t1)\n",
    "\n",
    "        # interesting question, what season or month did you meet your significant other?\n",
    "        # TODO: viz of map/region, pull month met data, pairpolt, (ggqqplot) normalize plot for numeric values\n",
    "        # income, pivot_tables, regplot, avg age vs income, missing data?\n",
    "\n",
    "    def age(self):\n",
    "        age_col_df = self.df_numeric_encoded.iloc[2:, :10]\n",
    "        age_col_df.drop(labels='id', axis=1, inplace=True)\n",
    "        age_col_df.drop(labels='age', axis=1, inplace=True)\n",
    "        age_col_df.drop(labels='hhinc', axis=1, inplace=True)\n",
    "        count_df = pd.DataFrame({'count': age_col_df.sum()})\n",
    "        count_df.rename(index={'cat_age_18-24': '18-24', 'cat_age_25-34': '25-34',\n",
    "                               'cat_age_35-44': '35-44', 'cat_age_45-54': '45-54',\n",
    "                               'cat_age_55-64': '55-64', 'cat_age_65-74': '65-74',\n",
    "                               'cat_age_75+': '75+'}, inplace=True)\n",
    "        count_df.reset_index(inplace=True)\n",
    "        count_df.rename(columns={'index': 'age'}, inplace=True)\n",
    "        sns.barplot(x='age', y='count', data=count_df, palette='hls')\n",
    "        plt.show()\n",
    "\n",
    "    def pair(self):\n",
    "        \"\"\"\n",
    "        plot pairwise relationships\n",
    "        \"\"\"\n",
    "        sns.pairplot(self.df_numeric, x_vars=['age'], y_vars=['hhinc'], pale hue='hhinc', height=5)\n",
    "        plt.show()\n",
    "\n",
    "\n",
    "if __name__ == '__main__':\n",
    "    m = Main()\n",
    "    m.log_config()\n",
    "    m.clean_data()\n",
    "#     m.gender()\n",
    "#     m.political()\n",
    "#     m.pivot()\n",
    "#     m.age()\n",
    "#     sm.MANOVA\n",
    "#     sm.OLS()\n",
    "    m.pair()\n"
   ]
  },
  {
   "cell_type": "code",
   "execution_count": 3,
   "id": "3f348963",
   "metadata": {
    "pycharm": {
     "name": "#%%\n"
    }
   },
   "outputs": [],
   "source": []
  }
 ],
 "metadata": {
  "kernelspec": {
   "display_name": "Python 3",
   "language": "python",
   "name": "python3"
  },
  "language_info": {
   "codemirror_mode": {
    "name": "ipython",
    "version": 3
   },
   "file_extension": ".py",
   "mimetype": "text/x-python",
   "name": "python",
   "nbconvert_exporter": "python",
   "pygments_lexer": "ipython3",
   "version": "3.9.7"
  }
 },
 "nbformat": 4,
 "nbformat_minor": 5
}